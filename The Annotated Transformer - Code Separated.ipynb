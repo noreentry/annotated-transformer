{
 "nbformat": 4,
 "nbformat_minor": 0,
 "metadata": {
  "kernelspec": {
   "name": "python3",
   "display_name": "Python 3"
  },
  "colab": {
   "name": "The Annotated Transformer Separated.ipynb",
   "provenance": []
  },
  "accelerator": "GPU"
 },
 "cells": [
  {
   "cell_type": "code",
   "metadata": {
    "execution": {
     "iopub.execute_input": "2020-06-08T16:48:05.520130Z",
     "iopub.status.busy": "2020-06-08T16:48:05.519544Z",
     "iopub.status.idle": "2020-06-08T16:48:05.547024Z",
     "shell.execute_reply": "2020-06-08T16:48:05.545707Z",
     "shell.execute_reply.started": "2020-06-08T16:48:05.520080Z"
    },
    "jupyter": {
     "outputs_hidden": false
    },
    "pycharm": {
     "name": "#%%\n"
    },
    "id": "DvaNBvzYATkF",
    "colab_type": "code",
    "colab": {
     "base_uri": "https://localhost:8080/",
     "height": 51
    },
    "outputId": "7383594d-224a-4ab0-d97d-4d4bb14d3d81"
   },
   "source": [
    "%load_ext autoreload\n",
    "%autoreload 2"
   ],
   "execution_count": 34,
   "outputs": [
    {
     "output_type": "stream",
     "text": [
      "The autoreload extension is already loaded. To reload it, use:\n",
      "  %reload_ext autoreload\n"
     ],
     "name": "stdout"
    }
   ]
  },
  {
   "cell_type": "code",
   "metadata": {
    "id": "__WYtXWgA2ya",
    "colab_type": "code",
    "colab": {},
    "pycharm": {
     "name": "#%%\n"
    }
   },
   "source": [
    "# !git clone https://github.com/noreentry/annotated-transformer\n",
    "import os\n",
    "os.chdir('/content/annotated-transformer')"
   ],
   "execution_count": 0,
   "outputs": []
  },
  {
   "cell_type": "code",
   "metadata": {
    "execution": {
     "iopub.execute_input": "2020-06-08T16:48:05.550383Z",
     "iopub.status.busy": "2020-06-08T16:48:05.549618Z",
     "iopub.status.idle": "2020-06-08T16:48:23.973011Z",
     "shell.execute_reply": "2020-06-08T16:48:23.968323Z",
     "shell.execute_reply.started": "2020-06-08T16:48:05.550326Z"
    },
    "id": "YDAYXrdwATkb",
    "colab_type": "code",
    "colab": {},
    "pycharm": {
     "name": "#%%\n"
    }
   },
   "source": [
    "# import pydevd_pycharm\n",
    "# pydevd_pycharm.settrace('10.8.15.6', port=34567, stdoutToServer=True, stderrToServer=True)"
   ],
   "execution_count": 0,
   "outputs": []
  },
  {
   "cell_type": "code",
   "metadata": {
    "execution": {
     "iopub.execute_input": "2020-06-08T16:48:23.983619Z",
     "iopub.status.busy": "2020-06-08T16:48:23.982788Z",
     "iopub.status.idle": "2020-06-08T16:48:24.020625Z",
     "shell.execute_reply": "2020-06-08T16:48:24.017850Z",
     "shell.execute_reply.started": "2020-06-08T16:48:23.983507Z"
    },
    "id": "y1YzQtMwATkv",
    "colab_type": "code",
    "colab": {}
   },
   "source": [
    "# from IPython.display import Image\n",
    "# Image(filename='images/aiayn.png')"
   ],
   "execution_count": 0,
   "outputs": []
  },
  {
   "cell_type": "markdown",
   "metadata": {
    "id": "GY02kvdJATlA",
    "colab_type": "text",
    "pycharm": {
     "name": "#%% md\n"
    }
   },
   "source": [
    "The Transformer from [\"Attention is All You Need\"](https://arxiv.org/abs/1706.03762) has been on a lot of people's minds over the last year. Besides producing major improvements in translation quality, it provides a new architecture for many other NLP tasks. The paper itself is very clearly written, but the conventional wisdom has been that it is quite difficult to implement correctly. \n",
    "\n",
    "In this post I present an \"annotated\" version of the paper in the form of a line-by-line implementation. I have reordered and deleted some sections from the original paper and added comments throughout. This document itself is a working notebook, and should be a completely usable implementation. In total there are 400 lines of library code which can process 27,000 tokens per second on 4 GPUs. \n",
    "\n",
    "To follow along you will first need to install [PyTorch](http://pytorch.org/). The complete notebook is also available on [github](https://github.com/harvardnlp/annotated-transformer) or on Google [Colab](https://drive.google.com/file/d/1xQXSv6mtAOLXxEMi8RvaW8TW-7bvYBDF/view?usp=sharing). \n",
    "\n",
    "Note this is merely a starting point for researchers and interested developers. The code here is based heavily on our [OpenNMT](http://opennmt.net) packages. (If helpful feel free to [cite](#conclusion).) For other full-sevice implementations of the model check-out [Tensor2Tensor](https://github.com/tensorflow/tensor2tensor) (tensorflow) and [Sockeye](https://github.com/awslabs/sockeye) (mxnet).\n",
    "\n",
    "- Alexander Rush ([@harvardnlp](https://twitter.com/harvardnlp) or srush@seas.harvard.edu)\n"
   ]
  },
  {
   "cell_type": "markdown",
   "metadata": {
    "id": "L7xkqQ2CATlE",
    "colab_type": "text"
   },
   "source": [
    "# Prelims"
   ]
  },
  {
   "cell_type": "code",
   "metadata": {
    "execution": {
     "iopub.execute_input": "2020-06-08T16:48:24.026938Z",
     "iopub.status.busy": "2020-06-08T16:48:24.025310Z",
     "iopub.status.idle": "2020-06-08T16:48:24.065082Z",
     "shell.execute_reply": "2020-06-08T16:48:24.062695Z",
     "shell.execute_reply.started": "2020-06-08T16:48:24.026750Z"
    },
    "id": "fhiYyuAXATlH",
    "colab_type": "code",
    "colab": {},
    "pycharm": {
     "name": "#%%\n"
    }
   },
   "source": [
    "# !pip install http://download.pytorch.org/whl/cu80/torch-0.3.0.post4-cp36-cp36m-linux_x86_64.whl numpy matplotlib spacy torchtext seaborn "
   ],
   "execution_count": 0,
   "outputs": []
  },
  {
   "cell_type": "code",
   "metadata": {
    "id": "KoKpvw6iBMFU",
    "colab_type": "code",
    "colab": {},
    "pycharm": {
     "name": "#%%\n"
    }
   },
   "source": [
    "# !pip install numpy matplotlib spacy torchtext seaborn "
   ],
   "execution_count": 0,
   "outputs": []
  },
  {
   "cell_type": "code",
   "metadata": {
    "execution": {
     "iopub.execute_input": "2020-06-08T16:48:24.069950Z",
     "iopub.status.busy": "2020-06-08T16:48:24.068867Z",
     "iopub.status.idle": "2020-06-08T16:48:31.393277Z",
     "shell.execute_reply": "2020-06-08T16:48:31.390084Z",
     "shell.execute_reply.started": "2020-06-08T16:48:24.069844Z"
    },
    "id": "A1p67OP8ATlZ",
    "colab_type": "code",
    "colab": {
     "base_uri": "https://localhost:8080/",
     "height": 71
    },
    "outputId": "da3869ec-3010-4778-8942-efc7c34d34f6",
    "pycharm": {
     "name": "#%%\n"
    }
   },
   "source": [
    "import numpy as np\n",
    "import torch\n",
    "import torch.nn as nn\n",
    "import torch.nn.functional as F\n",
    "import torch.utils.tensorboard\n",
    "import math, copy, time, itertools\n",
    "from torch.autograd import Variable\n",
    "import matplotlib.pyplot as plt\n",
    "import seaborn\n",
    "seaborn.set_context(context=\"talk\")\n",
    "%matplotlib inline\n",
    "\n",
    "import transformer"
   ],
   "execution_count": 5,
   "outputs": [
    {
     "output_type": "stream",
     "text": [
      "/usr/local/lib/python3.6/dist-packages/statsmodels/tools/_testing.py:19: FutureWarning: pandas.util.testing is deprecated. Use the functions in the public API at pandas.testing instead.\n",
      "  import pandas.util.testing as tm\n"
     ],
     "name": "stderr"
    }
   ]
  },
  {
   "cell_type": "markdown",
   "metadata": {
    "id": "DiR98L6hATlr",
    "colab_type": "text"
   },
   "source": [
    "Table of Contents\n",
    "\n",
    "\n",
    "* Table of Contents                               \n",
    "{:toc}      "
   ]
  },
  {
   "cell_type": "markdown",
   "metadata": {
    "id": "aQZVVrW0ATlu",
    "colab_type": "text"
   },
   "source": [
    "> My comments are blockquoted. The main text is all from the paper itself."
   ]
  },
  {
   "cell_type": "markdown",
   "metadata": {
    "id": "O44ZteycATlx",
    "colab_type": "text",
    "pycharm": {
     "name": "#%% md\n"
    }
   },
   "source": [
    "# Background"
   ]
  },
  {
   "cell_type": "markdown",
   "metadata": {
    "id": "brXqjF7TATl0",
    "colab_type": "text",
    "pycharm": {
     "name": "#%% md\n"
    }
   },
   "source": [
    "The goal of reducing sequential computation also forms the foundation of the Extended Neural GPU, ByteNet and ConvS2S, all of which use convolutional neural networks as basic building block, computing hidden representations in parallel for all input and output positions. In these models, the number of operations required to relate signals from two arbitrary input or output positions grows in the distance between positions, linearly for ConvS2S and logarithmically for ByteNet. This makes it more difficult to learn dependencies between distant positions. In the Transformer this is reduced to a constant number of operations, albeit at the cost of reduced effective resolution due to averaging attention-weighted positions, an effect we counteract with Multi-Head Attention.\n",
    "\n",
    "Self-attention, sometimes called intra-attention is an attention mechanism relating different positions of a single sequence in order to compute a representation of the sequence. Self-attention has been used successfully in a variety of tasks including reading comprehension, abstractive summarization, textual entailment and learning task-independent sentence representations. End-to-end memory networks are based on a recurrent attention mechanism instead of sequencealigned recurrence and have been shown to perform well on simple-language question answering and\n",
    "language modeling tasks.\n",
    "\n",
    "To the best of our knowledge, however, the Transformer is the first transduction model relying entirely on self-attention to compute representations of its input and output without using sequence aligned RNNs or convolution. "
   ]
  },
  {
   "cell_type": "markdown",
   "metadata": {
    "id": "KPAuoyTdATl3",
    "colab_type": "text"
   },
   "source": [
    "# Model Architecture"
   ]
  },
  {
   "cell_type": "markdown",
   "metadata": {
    "id": "yFf_f2UIATl7",
    "colab_type": "raw",
    "pycharm": {
     "name": "#%% md\n"
    }
   },
   "source": [
    "Most competitive neural sequence transduction models have an encoder-decoder structure [(cite)](https://arxiv.org/abs/1409.0473). Here, the encoder maps an input sequence of symbol representations $(x_1, ..., x_n)$ to a sequence of continuous representations $\\mathbf{z} = (z_1, ..., z_n)$. Given $\\mathbf{z}$, the decoder then generates an output sequence $(y_1,...,y_m)$ of symbols one element at a time. At each step the model is auto-regressive [(cite)](https://arxiv.org/abs/1308.0850), consuming the previously generated symbols as additional input when generating the next. "
   ]
  },
  {
   "cell_type": "code",
   "metadata": {
    "execution": {
     "iopub.execute_input": "2020-06-08T16:48:31.399687Z",
     "iopub.status.busy": "2020-06-08T16:48:31.398159Z",
     "iopub.status.idle": "2020-06-08T16:48:31.489472Z",
     "shell.execute_reply": "2020-06-08T16:48:31.486090Z",
     "shell.execute_reply.started": "2020-06-08T16:48:31.399509Z"
    },
    "id": "hdxjLSMuATl-",
    "colab_type": "code",
    "colab": {},
    "pycharm": {
     "name": "#%%\n"
    }
   },
   "source": [
    "from transformer import EncoderDecoder"
   ],
   "execution_count": 0,
   "outputs": []
  },
  {
   "cell_type": "code",
   "metadata": {
    "execution": {
     "iopub.execute_input": "2020-06-08T16:48:31.493027Z",
     "iopub.status.busy": "2020-06-08T16:48:31.492446Z",
     "iopub.status.idle": "2020-06-08T16:48:31.553612Z",
     "shell.execute_reply": "2020-06-08T16:48:31.550964Z",
     "shell.execute_reply.started": "2020-06-08T16:48:31.492927Z"
    },
    "id": "T7mEbkMwATmY",
    "colab_type": "code",
    "colab": {}
   },
   "source": [
    "from transformer import Generator"
   ],
   "execution_count": 0,
   "outputs": []
  },
  {
   "cell_type": "markdown",
   "metadata": {
    "id": "EFDkVVWCATmu",
    "colab_type": "raw",
    "pycharm": {
     "name": "#%% md\n"
    }
   },
   "source": [
    "The Transformer follows this overall architecture using stacked self-attention and point-wise, fully connected layers for both the encoder and decoder, shown in the left and right halves of Figure 1, respectively. "
   ]
  },
  {
   "cell_type": "code",
   "metadata": {
    "execution": {
     "iopub.execute_input": "2020-06-08T16:48:31.565536Z",
     "iopub.status.busy": "2020-06-08T16:48:31.564382Z",
     "iopub.status.idle": "2020-06-08T16:48:31.632704Z",
     "shell.execute_reply": "2020-06-08T16:48:31.630818Z",
     "shell.execute_reply.started": "2020-06-08T16:48:31.565356Z"
    },
    "id": "Y8C3m_ATATmy",
    "colab_type": "code",
    "colab": {},
    "pycharm": {
     "name": "#%%\n"
    }
   },
   "source": [
    "# Image(filename='images/ModalNet-21.png')"
   ],
   "execution_count": 0,
   "outputs": []
  },
  {
   "cell_type": "markdown",
   "metadata": {
    "id": "cDdvy9kKATnS",
    "colab_type": "raw",
    "pycharm": {
     "name": "#%% md\n"
    }
   },
   "source": [
    "## Encoder and Decoder Stacks   \n",
    "\n",
    "### Encoder\n",
    "\n",
    "The encoder is composed of a stack of $N=6$ identical layers. "
   ]
  },
  {
   "cell_type": "code",
   "metadata": {
    "execution": {
     "iopub.execute_input": "2020-06-08T16:48:31.639864Z",
     "iopub.status.busy": "2020-06-08T16:48:31.638274Z",
     "iopub.status.idle": "2020-06-08T16:48:31.716690Z",
     "shell.execute_reply": "2020-06-08T16:48:31.713430Z",
     "shell.execute_reply.started": "2020-06-08T16:48:31.639671Z"
    },
    "id": "Mm4VQWZnATnZ",
    "colab_type": "code",
    "colab": {},
    "pycharm": {
     "name": "#%%\n"
    }
   },
   "source": [
    "from transformer import clones"
   ],
   "execution_count": 0,
   "outputs": []
  },
  {
   "cell_type": "code",
   "metadata": {
    "execution": {
     "iopub.execute_input": "2020-06-08T16:48:31.722417Z",
     "iopub.status.busy": "2020-06-08T16:48:31.721329Z",
     "iopub.status.idle": "2020-06-08T16:48:31.786083Z",
     "shell.execute_reply": "2020-06-08T16:48:31.783221Z",
     "shell.execute_reply.started": "2020-06-08T16:48:31.722267Z"
    },
    "id": "Jk-LVFkWATn3",
    "colab_type": "code",
    "colab": {}
   },
   "source": [
    "from transformer import Encoder"
   ],
   "execution_count": 0,
   "outputs": []
  },
  {
   "cell_type": "markdown",
   "metadata": {
    "id": "UMUeTq1YAToe",
    "colab_type": "text"
   },
   "source": [
    "We employ a residual connection [(cite)](https://arxiv.org/abs/1512.03385) around each of the two sub-layers, followed by layer normalization [(cite)](https://arxiv.org/abs/1607.06450).  "
   ]
  },
  {
   "cell_type": "code",
   "metadata": {
    "execution": {
     "iopub.execute_input": "2020-06-08T16:48:31.791150Z",
     "iopub.status.busy": "2020-06-08T16:48:31.790495Z",
     "iopub.status.idle": "2020-06-08T16:48:31.883912Z",
     "shell.execute_reply": "2020-06-08T16:48:31.882032Z",
     "shell.execute_reply.started": "2020-06-08T16:48:31.791050Z"
    },
    "id": "Rbh5vlirAToj",
    "colab_type": "code",
    "colab": {}
   },
   "source": [
    "from transformer import LayerNorm"
   ],
   "execution_count": 0,
   "outputs": []
  },
  {
   "cell_type": "markdown",
   "metadata": {
    "id": "hnbpWlSFATo7",
    "colab_type": "raw"
   },
   "source": [
    "That is, the output of each sub-layer is $\\mathrm{LayerNorm}(x + \\mathrm{Sublayer}(x))$, where $\\mathrm{Sublayer}(x)$ is the function implemented by the sub-layer itself.  We apply dropout [(cite)](http://jmlr.org/papers/v15/srivastava14a.html) to the output of each sub-layer, before it is added to the sub-layer input and normalized.  \n",
    "\n",
    "To facilitate these residual connections, all sub-layers in the model, as well as the embedding layers, produce outputs of dimension $d_{\\text{model}}=512$.  "
   ]
  },
  {
   "cell_type": "code",
   "metadata": {
    "execution": {
     "iopub.execute_input": "2020-06-08T16:48:31.887646Z",
     "iopub.status.busy": "2020-06-08T16:48:31.886983Z",
     "iopub.status.idle": "2020-06-08T16:48:31.957591Z",
     "shell.execute_reply": "2020-06-08T16:48:31.954201Z",
     "shell.execute_reply.started": "2020-06-08T16:48:31.887489Z"
    },
    "id": "jC4J-YIkATpA",
    "colab_type": "code",
    "colab": {}
   },
   "source": [
    "from transformer import SublayerConnection"
   ],
   "execution_count": 0,
   "outputs": []
  },
  {
   "cell_type": "markdown",
   "metadata": {
    "id": "baOKMzYfATpa",
    "colab_type": "text"
   },
   "source": [
    "Each layer has two sub-layers. The first is a multi-head self-attention mechanism, and the second is a simple, position-wise fully connected feed-forward network."
   ]
  },
  {
   "cell_type": "code",
   "metadata": {
    "execution": {
     "iopub.execute_input": "2020-06-08T16:48:31.961691Z",
     "iopub.status.busy": "2020-06-08T16:48:31.960922Z",
     "iopub.status.idle": "2020-06-08T16:48:32.025662Z",
     "shell.execute_reply": "2020-06-08T16:48:32.022136Z",
     "shell.execute_reply.started": "2020-06-08T16:48:31.961526Z"
    },
    "id": "8XSEDBHYATpe",
    "colab_type": "code",
    "colab": {}
   },
   "source": [
    "from transformer import EncoderLayer"
   ],
   "execution_count": 0,
   "outputs": []
  },
  {
   "cell_type": "markdown",
   "metadata": {
    "id": "PVkLNPyZATp5",
    "colab_type": "raw"
   },
   "source": [
    "### Decoder\n",
    "\n",
    "The decoder is also composed of a stack of $N=6$ identical layers.  "
   ]
  },
  {
   "cell_type": "code",
   "metadata": {
    "execution": {
     "iopub.execute_input": "2020-06-08T16:48:32.029532Z",
     "iopub.status.busy": "2020-06-08T16:48:32.028905Z",
     "iopub.status.idle": "2020-06-08T16:48:32.099861Z",
     "shell.execute_reply": "2020-06-08T16:48:32.096870Z",
     "shell.execute_reply.started": "2020-06-08T16:48:32.029421Z"
    },
    "id": "45N7JbxwATp-",
    "colab_type": "code",
    "colab": {}
   },
   "source": [
    "from transformer import Decoder"
   ],
   "execution_count": 0,
   "outputs": []
  },
  {
   "cell_type": "markdown",
   "metadata": {
    "id": "dnufKCs0ATqd",
    "colab_type": "text"
   },
   "source": [
    "In addition to the two sub-layers in each encoder layer, the decoder inserts a third sub-layer, which performs multi-head attention over the output of the encoder stack.  Similar to the encoder, we employ residual connections around each of the sub-layers, followed by layer normalization.  "
   ]
  },
  {
   "cell_type": "code",
   "metadata": {
    "execution": {
     "iopub.execute_input": "2020-06-08T16:48:32.106038Z",
     "iopub.status.busy": "2020-06-08T16:48:32.104877Z",
     "iopub.status.idle": "2020-06-08T16:48:32.179847Z",
     "shell.execute_reply": "2020-06-08T16:48:32.177943Z",
     "shell.execute_reply.started": "2020-06-08T16:48:32.105854Z"
    },
    "id": "RCNmCp0uATqg",
    "colab_type": "code",
    "colab": {}
   },
   "source": [
    "from transformer import DecoderLayer"
   ],
   "execution_count": 0,
   "outputs": []
  },
  {
   "cell_type": "markdown",
   "metadata": {
    "id": "99JRZtdSATq9",
    "colab_type": "text"
   },
   "source": [
    "We also modify the self-attention sub-layer in the decoder stack to prevent positions from attending to subsequent positions.  This masking, combined with fact that the output embeddings are offset by one position, ensures that the predictions for position $i$ can depend only on the known outputs at positions less than $i$."
   ]
  },
  {
   "cell_type": "code",
   "metadata": {
    "execution": {
     "iopub.execute_input": "2020-06-08T16:48:32.183307Z",
     "iopub.status.busy": "2020-06-08T16:48:32.182554Z",
     "iopub.status.idle": "2020-06-08T16:48:32.251043Z",
     "shell.execute_reply": "2020-06-08T16:48:32.249047Z",
     "shell.execute_reply.started": "2020-06-08T16:48:32.183181Z"
    },
    "id": "uKebFfrOATrB",
    "colab_type": "code",
    "colab": {}
   },
   "source": [
    "from transformer import subsequent_mask"
   ],
   "execution_count": 0,
   "outputs": []
  },
  {
   "cell_type": "markdown",
   "metadata": {
    "id": "c-jxuQsYATrS",
    "colab_type": "text"
   },
   "source": [
    "> Below the attention mask shows the position each tgt word (row) is allowed to look at (column). Words are blocked for attending to future words during training."
   ]
  },
  {
   "cell_type": "code",
   "metadata": {
    "execution": {
     "iopub.execute_input": "2020-06-08T16:48:32.257922Z",
     "iopub.status.busy": "2020-06-08T16:48:32.256912Z",
     "iopub.status.idle": "2020-06-08T16:48:32.320383Z",
     "shell.execute_reply": "2020-06-08T16:48:32.318386Z",
     "shell.execute_reply.started": "2020-06-08T16:48:32.257730Z"
    },
    "id": "T_QLbbVMATrV",
    "colab_type": "code",
    "colab": {}
   },
   "source": [
    "# plt.figure(figsize=(5,5))\n",
    "# plt.imshow(subsequent_mask(20)[0]);"
   ],
   "execution_count": 0,
   "outputs": []
  },
  {
   "cell_type": "markdown",
   "metadata": {
    "id": "rKM4WfSKATrn",
    "colab_type": "raw"
   },
   "source": [
    "### Attention                                                                                                                                                                                                                                                                             \n",
    "An attention function can be described as mapping a query and a set of key-value pairs to an output, where the query, keys, values, and output are all vectors.  The output is computed as a weighted sum of the values, where the weight assigned to each value is computed by a compatibility function of the query with the corresponding key.                                                                                                                                                                                                                                                                                   \n",
    "\n",
    "We call our particular attention \"Scaled Dot-Product Attention\".   The input consists of queries and keys of dimension $d_k$, and values of dimension $d_v$.  We compute the dot products of the query with all keys, divide each by $\\sqrt{d_k}$, and apply a softmax function to obtain the weights on the values.                                                                                                                                                                                                                                  \n",
    "                                                                                                                                                                     "
   ]
  },
  {
   "cell_type": "code",
   "metadata": {
    "execution": {
     "iopub.execute_input": "2020-06-08T16:48:32.323942Z",
     "iopub.status.busy": "2020-06-08T16:48:32.323374Z",
     "iopub.status.idle": "2020-06-08T16:48:32.386185Z",
     "shell.execute_reply": "2020-06-08T16:48:32.383114Z",
     "shell.execute_reply.started": "2020-06-08T16:48:32.323842Z"
    },
    "id": "qml0I9uDATrq",
    "colab_type": "code",
    "colab": {},
    "pycharm": {
     "name": "#%%\n"
    }
   },
   "source": [
    "# Image(filename='images/ModalNet-19.png')"
   ],
   "execution_count": 0,
   "outputs": []
  },
  {
   "cell_type": "markdown",
   "metadata": {
    "id": "MecJGOFdATr7",
    "colab_type": "raw",
    "pycharm": {
     "name": "#%% md\n"
    }
   },
   "source": [
    "In practice, we compute the attention function on a set of queries simultaneously, packed together into a matrix $Q$.   The keys and values are also packed together into matrices $K$ and $V$.  We compute the matrix of outputs as:\n",
    "                                                                 \n",
    "$$                                                                         \n",
    "   \\mathrm{Attention}(Q, K, V) = \\mathrm{softmax}(\\frac{QK^T}{\\sqrt{d_k}})V               \n",
    "$$   "
   ]
  },
  {
   "cell_type": "code",
   "metadata": {
    "execution": {
     "iopub.execute_input": "2020-06-08T16:48:32.392143Z",
     "iopub.status.busy": "2020-06-08T16:48:32.390973Z",
     "iopub.status.idle": "2020-06-08T16:48:32.499097Z",
     "shell.execute_reply": "2020-06-08T16:48:32.497491Z",
     "shell.execute_reply.started": "2020-06-08T16:48:32.391955Z"
    },
    "id": "ubujL4V_ATsA",
    "colab_type": "code",
    "colab": {},
    "pycharm": {
     "name": "#%%\n"
    }
   },
   "source": [
    "from transformer import attention"
   ],
   "execution_count": 0,
   "outputs": []
  },
  {
   "cell_type": "markdown",
   "metadata": {
    "id": "-dZy368yATsT",
    "colab_type": "raw",
    "pycharm": {
     "name": "#%% md\n"
    }
   },
   "source": [
    "The two most commonly used attention functions are additive attention [(cite)](https://arxiv.org/abs/1409.0473), and dot-product (multiplicative) attention.  Dot-product attention is identical to our algorithm, except for the scaling factor of $\\frac{1}{\\sqrt{d_k}}$. Additive attention computes the compatibility function using a feed-forward network with a single hidden layer.  While the two are similar in theoretical complexity, dot-product attention is much faster and more space-efficient in practice, since it can be implemented using highly optimized matrix multiplication code.                                                                                             \n",
    "\n",
    "While for small values of $d_k$ the two mechanisms perform similarly, additive attention outperforms dot product attention without scaling for larger values of $d_k$ [(cite)](https://arxiv.org/abs/1703.03906). We suspect that for large values of $d_k$, the dot products grow large in magnitude, pushing the softmax function into regions where it has extremely small gradients  (To illustrate why the dot products get large, assume that the components of $q$ and $k$ are independent random variables with mean $0$ and variance $1$.  Then their dot product, $q \\cdot k = \\sum_{i=1}^{d_k} q_ik_i$, has mean $0$ and variance $d_k$.). To counteract this effect, we scale the dot products by $\\frac{1}{\\sqrt{d_k}}$.          "
   ]
  },
  {
   "cell_type": "markdown",
   "metadata": {
    "id": "cedqqeiEATsV",
    "colab_type": "raw"
   },
   "source": []
  },
  {
   "cell_type": "code",
   "metadata": {
    "execution": {
     "iopub.execute_input": "2020-06-08T16:48:32.502417Z",
     "iopub.status.busy": "2020-06-08T16:48:32.501615Z",
     "iopub.status.idle": "2020-06-08T16:48:32.564728Z",
     "shell.execute_reply": "2020-06-08T16:48:32.562059Z",
     "shell.execute_reply.started": "2020-06-08T16:48:32.502316Z"
    },
    "id": "vWL6UZuPATsY",
    "colab_type": "code",
    "colab": {},
    "pycharm": {
     "name": "#%%\n"
    }
   },
   "source": [
    "# Image(filename='images/ModalNet-20.png')"
   ],
   "execution_count": 0,
   "outputs": []
  },
  {
   "cell_type": "markdown",
   "metadata": {
    "id": "auX2P5yNATso",
    "colab_type": "raw",
    "pycharm": {
     "name": "#%% md\n"
    }
   },
   "source": [
    "Multi-head attention allows the model to jointly attend to information from different representation subspaces at different positions. With a single attention head, averaging inhibits this.                                            \n",
    "$$    \n",
    "\\mathrm{MultiHead}(Q, K, V) = \\mathrm{Concat}(\\mathrm{head_1}, ..., \\mathrm{head_h})W^O    \\\\                                           \n",
    "    \\text{where}~\\mathrm{head_i} = \\mathrm{Attention}(QW^Q_i, KW^K_i, VW^V_i)                                \n",
    "$$                                                                                                                 \n",
    "\n",
    "Where the projections are parameter matrices $W^Q_i \\in \\mathbb{R}^{d_{\\text{model}} \\times d_k}$, $W^K_i \\in \\mathbb{R}^{d_{\\text{model}} \\times d_k}$, $W^V_i \\in \\mathbb{R}^{d_{\\text{model}} \\times d_v}$ and $W^O \\in \\mathbb{R}^{hd_v \\times d_{\\text{model}}}$.                                                                                                                                                                                             In this work we employ $h=8$ parallel attention layers, or heads. For each of these we use $d_k=d_v=d_{\\text{model}}/h=64$. Due to the reduced dimension of each head, the total computational cost is similar to that of single-head attention with full dimensionality. "
   ]
  },
  {
   "cell_type": "code",
   "metadata": {
    "execution": {
     "iopub.execute_input": "2020-06-08T16:48:32.570686Z",
     "iopub.status.busy": "2020-06-08T16:48:32.569135Z",
     "iopub.status.idle": "2020-06-08T16:48:32.633070Z",
     "shell.execute_reply": "2020-06-08T16:48:32.631470Z",
     "shell.execute_reply.started": "2020-06-08T16:48:32.570487Z"
    },
    "id": "2vyA5_VnATss",
    "colab_type": "code",
    "colab": {},
    "pycharm": {
     "name": "#%%\n"
    }
   },
   "source": [
    "from transformer import MultiHeadedAttention"
   ],
   "execution_count": 0,
   "outputs": []
  },
  {
   "cell_type": "markdown",
   "metadata": {
    "id": "SSdv9KZlATtB",
    "colab_type": "text",
    "pycharm": {
     "name": "#%% md\n"
    }
   },
   "source": [
    "### Applications of Attention in our Model\n",
    "The Transformer uses multi-head attention in three different ways:                                                        \n",
    "1) In \"encoder-decoder attention\" layers, the queries come from the previous decoder layer, and the memory keys and values come from the output of the encoder.   This allows every position in the decoder to attend over all positions in the input sequence.  This mimics the typical encoder-decoder attention mechanisms in sequence-to-sequence models such as [(cite)](https://arxiv.org/abs/1609.08144).    \n",
    "\n",
    "\n",
    "2) The encoder contains self-attention layers.  In a self-attention layer all of the keys, values and queries come from the same place, in this case, the output of the previous layer in the encoder.   Each position in the encoder can attend to all positions in the previous layer of the encoder.                                                   \n",
    "\n",
    "\n",
    "3) Similarly, self-attention layers in the decoder allow each position in the decoder to attend to all positions in the decoder up to and including that position.  We need to prevent leftward information flow in the decoder to preserve the auto-regressive property.  We implement this inside of scaled dot-product attention by masking out (setting to $-\\infty$) all values in the input of the softmax which correspond to illegal connections.                                                                                                                                                                                                                                                      "
   ]
  },
  {
   "cell_type": "markdown",
   "metadata": {
    "id": "1M6KAZJOATtE",
    "colab_type": "raw"
   },
   "source": [
    "## Position-wise Feed-Forward Networks                                                                                                                                                                                                                                                                                                                                                             \n",
    "                                                                                                                                                                                                                                                                                                                                                                                                                                                                                          \n",
    "In addition to attention sub-layers, each of the layers in our encoder and decoder contains a fully connected feed-forward network, which is applied to each position separately and identically.  This consists of two linear transformations with a ReLU activation in between.\n",
    "\n",
    "$$\\mathrm{FFN}(x)=\\max(0, xW_1 + b_1) W_2 + b_2$$                                                                                                                                                                                                                                                         \n",
    "                                                                                                                                                                                                                                                        \n",
    "While the linear transformations are the same across different positions, they use different parameters from layer to layer. Another way of describing this is as two convolutions with kernel size 1.  The dimensionality of input and output is $d_{\\text{model}}=512$, and the inner-layer has dimensionality $d_{ff}=2048$. "
   ]
  },
  {
   "cell_type": "code",
   "metadata": {
    "execution": {
     "iopub.execute_input": "2020-06-08T16:48:32.636801Z",
     "iopub.status.busy": "2020-06-08T16:48:32.635921Z",
     "iopub.status.idle": "2020-06-08T16:48:32.706934Z",
     "shell.execute_reply": "2020-06-08T16:48:32.704707Z",
     "shell.execute_reply.started": "2020-06-08T16:48:32.636688Z"
    },
    "id": "SO-pUGPlATtG",
    "colab_type": "code",
    "colab": {}
   },
   "source": [
    "from transformer import PositionwiseFeedForward"
   ],
   "execution_count": 0,
   "outputs": []
  },
  {
   "cell_type": "markdown",
   "metadata": {
    "id": "Gt28QC5aATtb",
    "colab_type": "raw"
   },
   "source": [
    "## Embeddings and Softmax                                                                                                                                                                                                                                                                                           \n",
    "Similarly to other sequence transduction models, we use learned embeddings to convert the input tokens and output tokens to vectors of dimension $d_{\\text{model}}$.  We also use the usual learned linear transformation and softmax function to convert the decoder output to predicted next-token probabilities.  In our model, we share the same weight matrix between the two embedding layers and the pre-softmax linear transformation, similar to [(cite)](https://arxiv.org/abs/1608.05859). In the embedding layers, we multiply those weights by $\\sqrt{d_{\\text{model}}}$.                                                                                                                                 "
   ]
  },
  {
   "cell_type": "code",
   "metadata": {
    "execution": {
     "iopub.execute_input": "2020-06-08T16:48:32.710530Z",
     "iopub.status.busy": "2020-06-08T16:48:32.709928Z",
     "iopub.status.idle": "2020-06-08T16:48:32.787007Z",
     "shell.execute_reply": "2020-06-08T16:48:32.784870Z",
     "shell.execute_reply.started": "2020-06-08T16:48:32.710384Z"
    },
    "id": "FOyhV9djATte",
    "colab_type": "code",
    "colab": {}
   },
   "source": [
    "from transformer import Embeddings"
   ],
   "execution_count": 0,
   "outputs": []
  },
  {
   "cell_type": "markdown",
   "metadata": {
    "id": "hgj361C3ATtq",
    "colab_type": "raw"
   },
   "source": [
    "## Positional Encoding                                                                                                                             \n",
    "Since our model contains no recurrence and no convolution, in order for the model to make use of the order of the sequence, we must inject some information about the relative or absolute position of the tokens in the sequence.  To this end, we add \"positional encodings\" to the input embeddings at the bottoms of the encoder and decoder stacks.  The positional encodings have the same dimension $d_{\\text{model}}$ as the embeddings, so that the two can be summed.   There are many choices of positional encodings, learned and fixed [(cite)](https://arxiv.org/pdf/1705.03122.pdf). \n",
    "\n",
    "In this work, we use sine and cosine functions of different frequencies:                                                                                                                                                                                                                                                                                                                                                                                                                                                                                                                                  \n",
    "$$PE_{(pos,2i)} = sin(pos / 10000^{2i/d_{\\text{model}}})$$\n",
    "\n",
    "$$PE_{(pos,2i+1)} = cos(pos / 10000^{2i/d_{\\text{model}}})$$                                                                                                                                                                                                                                                        \n",
    "where $pos$ is the position and $i$ is the dimension.  That is, each dimension of the positional encoding corresponds to a sinusoid.  The wavelengths form a geometric progression from $2\\pi$ to $10000 \\cdot 2\\pi$.  We chose this function because we hypothesized it would allow the model to easily learn to attend by relative positions, since for any fixed offset $k$, $PE_{pos+k}$ can be represented as a linear function of $PE_{pos}$. \n",
    "\n",
    "In addition, we apply dropout to the sums of the embeddings and the positional encodings in both the encoder and decoder stacks.  For the base model, we use a rate of $P_{drop}=0.1$. \n",
    "                                                                                                                                                                                                                                                    \n"
   ]
  },
  {
   "cell_type": "code",
   "metadata": {
    "execution": {
     "iopub.execute_input": "2020-06-08T16:48:32.792119Z",
     "iopub.status.busy": "2020-06-08T16:48:32.790886Z",
     "iopub.status.idle": "2020-06-08T16:48:32.855083Z",
     "shell.execute_reply": "2020-06-08T16:48:32.852574Z",
     "shell.execute_reply.started": "2020-06-08T16:48:32.792012Z"
    },
    "id": "9A7-JBCaATts",
    "colab_type": "code",
    "colab": {},
    "pycharm": {
     "name": "#%%\n"
    }
   },
   "source": [
    "from transformer import PositionalEncoding"
   ],
   "execution_count": 0,
   "outputs": []
  },
  {
   "cell_type": "markdown",
   "metadata": {
    "id": "f6BH3jftATuE",
    "colab_type": "text",
    "pycharm": {
     "name": "#%% md\n"
    }
   },
   "source": [
    "> Below the positional encoding will add in a sine wave based on position. The frequency and offset of the wave is different for each dimension. "
   ]
  },
  {
   "cell_type": "code",
   "metadata": {
    "execution": {
     "iopub.execute_input": "2020-06-08T16:48:32.859534Z",
     "iopub.status.busy": "2020-06-08T16:48:32.858730Z",
     "iopub.status.idle": "2020-06-08T16:48:32.921861Z",
     "shell.execute_reply": "2020-06-08T16:48:32.919987Z",
     "shell.execute_reply.started": "2020-06-08T16:48:32.859388Z"
    },
    "id": "ZEH2Xl4MATuR",
    "colab_type": "code",
    "colab": {}
   },
   "source": [
    "# plt.figure(figsize=(15, 5))\n",
    "# pe = PositionalEncoding(20, 0)\n",
    "# y = pe.forward(Variable(torch.zeros(1, 100, 20)))\n",
    "# plt.plot(np.arange(100), y[0, :, 4:8].data.numpy())\n",
    "# plt.legend([\"dim %d\"%p for p in [4,5,6,7]])\n",
    "# plt.show()"
   ],
   "execution_count": 0,
   "outputs": []
  },
  {
   "cell_type": "markdown",
   "metadata": {
    "id": "ERepkxdyATz_",
    "colab_type": "text"
   },
   "source": [
    "We also experimented with using learned positional embeddings [(cite)](https://arxiv.org/pdf/1705.03122.pdf) instead, and found that the two versions produced nearly identical results.  We chose the sinusoidal version because it may allow the model to extrapolate to sequence lengths longer than the ones encountered during training.    "
   ]
  },
  {
   "cell_type": "markdown",
   "metadata": {
    "id": "Gg_V70bJAT0P",
    "colab_type": "text"
   },
   "source": [
    "## Full Model\n",
    "\n",
    "> Here we define a function from hyperparameters to a full model. "
   ]
  },
  {
   "cell_type": "code",
   "metadata": {
    "execution": {
     "iopub.execute_input": "2020-06-08T16:48:32.933863Z",
     "iopub.status.busy": "2020-06-08T16:48:32.933167Z",
     "iopub.status.idle": "2020-06-08T16:48:33.012937Z",
     "shell.execute_reply": "2020-06-08T16:48:33.010526Z",
     "shell.execute_reply.started": "2020-06-08T16:48:32.933722Z"
    },
    "id": "mZ2A9H4pAT0T",
    "colab_type": "code",
    "colab": {},
    "pycharm": {
     "name": "#%%\n"
    }
   },
   "source": [
    "from transformer import make_model"
   ],
   "execution_count": 0,
   "outputs": []
  },
  {
   "cell_type": "code",
   "metadata": {
    "execution": {
     "iopub.execute_input": "2020-06-08T16:48:33.019286Z",
     "iopub.status.busy": "2020-06-08T16:48:33.018569Z",
     "iopub.status.idle": "2020-06-08T16:48:33.951403Z",
     "shell.execute_reply": "2020-06-08T16:48:33.948568Z",
     "shell.execute_reply.started": "2020-06-08T16:48:33.019134Z"
    },
    "id": "IrLGU_mbAT0n",
    "colab_type": "code",
    "colab": {}
   },
   "source": [
    "# Small example model.\n",
    "tmp_model = make_model(10, 10, 2)"
   ],
   "execution_count": 0,
   "outputs": []
  },
  {
   "cell_type": "markdown",
   "metadata": {
    "id": "WprHnQb-AT06",
    "colab_type": "text"
   },
   "source": [
    "# Training\n",
    "\n",
    "This section describes the training regime for our models."
   ]
  },
  {
   "cell_type": "markdown",
   "metadata": {
    "id": "_Mao63M8AT0-",
    "colab_type": "text"
   },
   "source": [
    "> We stop for a quick interlude to introduce some of the tools \n",
    "needed to train a standard encoder decoder model. First we define a batch object that holds the src and target sentences for training, as well as constructing the masks. "
   ]
  },
  {
   "cell_type": "markdown",
   "metadata": {
    "id": "7wWZKA-UAT1E",
    "colab_type": "text",
    "pycharm": {
     "name": "#%% md\n"
    }
   },
   "source": [
    "## Batches and Masking"
   ]
  },
  {
   "cell_type": "code",
   "metadata": {
    "execution": {
     "iopub.execute_input": "2020-06-08T16:48:33.956475Z",
     "iopub.status.busy": "2020-06-08T16:48:33.955363Z",
     "iopub.status.idle": "2020-06-08T16:48:34.058291Z",
     "shell.execute_reply": "2020-06-08T16:48:34.055206Z",
     "shell.execute_reply.started": "2020-06-08T16:48:33.956307Z"
    },
    "id": "juaDz-h0AT1G",
    "colab_type": "code",
    "colab": {},
    "pycharm": {
     "name": "#%%\n"
    }
   },
   "source": [
    "from transformer import Batch"
   ],
   "execution_count": 0,
   "outputs": []
  },
  {
   "cell_type": "markdown",
   "metadata": {
    "id": "Rg4qNHkPAT1Y",
    "colab_type": "text"
   },
   "source": [
    "> Next we create a generic training and scoring function to keep track of loss. We pass in a generic loss compute function that also handles parameter updates. "
   ]
  },
  {
   "cell_type": "markdown",
   "metadata": {
    "id": "1Vy_a1x3AT1c",
    "colab_type": "text",
    "pycharm": {
     "name": "#%% md\n"
    }
   },
   "source": [
    "## Training Loop"
   ]
  },
  {
   "cell_type": "code",
   "metadata": {
    "execution": {
     "iopub.execute_input": "2020-06-08T16:48:34.065061Z",
     "iopub.status.busy": "2020-06-08T16:48:34.063822Z",
     "iopub.status.idle": "2020-06-08T16:48:34.164133Z",
     "shell.execute_reply": "2020-06-08T16:48:34.161489Z",
     "shell.execute_reply.started": "2020-06-08T16:48:34.064869Z"
    },
    "id": "XHHyLR3hAT1g",
    "colab_type": "code",
    "colab": {},
    "pycharm": {
     "name": "#%%\n"
    }
   },
   "source": [
    "from transformer import run_epoch"
   ],
   "execution_count": 0,
   "outputs": []
  },
  {
   "cell_type": "markdown",
   "metadata": {
    "id": "M4q2ZKfjAT1v",
    "colab_type": "text"
   },
   "source": [
    "## Training Data and Batching\n",
    "\n",
    "We trained on the standard WMT 2014 English-German dataset consisting of about 4.5 million sentence pairs.  Sentences were encoded using byte-pair encoding, which has a shared source-target vocabulary of about 37000 tokens. For English-French, we used the significantly larger WMT 2014 English-French dataset consisting of 36M sentences and split tokens into a 32000 word-piece vocabulary.\n",
    "\n",
    "Sentence pairs were batched together by approximate sequence length.  Each training batch contained a set of sentence pairs containing approximately 25000 source tokens and 25000 target tokens."
   ]
  },
  {
   "cell_type": "markdown",
   "metadata": {
    "id": "nc9KovfnAT1z",
    "colab_type": "text"
   },
   "source": [
    "> We will use torch text for batching. This is discussed in more detail below. Here we create batches in a torchtext function that ensures our batch size padded to the maximum batchsize does not surpass a threshold (25000 if we have 8 gpus)."
   ]
  },
  {
   "cell_type": "code",
   "metadata": {
    "execution": {
     "iopub.execute_input": "2020-06-08T16:48:34.169407Z",
     "iopub.status.busy": "2020-06-08T16:48:34.168330Z",
     "iopub.status.idle": "2020-06-08T16:48:34.235160Z",
     "shell.execute_reply": "2020-06-08T16:48:34.232706Z",
     "shell.execute_reply.started": "2020-06-08T16:48:34.169237Z"
    },
    "id": "wuT5xbObAT11",
    "colab_type": "code",
    "colab": {}
   },
   "source": [
    "from transformer import batch_size_fn"
   ],
   "execution_count": 0,
   "outputs": []
  },
  {
   "cell_type": "markdown",
   "metadata": {
    "id": "LufAcWa3AT2e",
    "colab_type": "text"
   },
   "source": [
    "## Hardware and Schedule                                                                                                                                                                                                   \n",
    "We trained our models on one machine with 8 NVIDIA P100 GPUs.  For our base models using the hyperparameters described throughout the paper, each training step took about 0.4 seconds.  We trained the base models for a total of 100,000 steps or 12 hours. For our big models, step time was 1.0 seconds.  The big models were trained for 300,000 steps (3.5 days)."
   ]
  },
  {
   "cell_type": "markdown",
   "metadata": {
    "id": "3nHAXDQbAT2h",
    "colab_type": "raw",
    "pycharm": {
     "name": "#%% md\n"
    }
   },
   "source": [
    "## Optimizer\n",
    "\n",
    "We used the Adam optimizer [(cite)](https://arxiv.org/abs/1412.6980) with $\\beta_1=0.9$, $\\beta_2=0.98$ and $\\epsilon=10^{-9}$.  We varied the learning rate over the course of training, according to the formula:                                                                                            \n",
    "$$                                                                                                                                                                                                                                                                                         \n",
    "lrate = d_{\\text{model}}^{-0.5} \\cdot                                                                                                                                                                                                                                                                                                \n",
    "  \\min({step\\_num}^{-0.5},                                                                                                                                                                                                                                                                                                  \n",
    "    {step\\_num} \\cdot {warmup\\_steps}^{-1.5})                                                                                                                                                                                                                                                                               \n",
    "$$                                                                                                                                                                                             \n",
    "This corresponds to increasing the learning rate linearly for the first $warmup\\_steps$ training steps, and decreasing it thereafter proportionally to the inverse square root of the step number.  We used $warmup\\_steps=4000$.                            "
   ]
  },
  {
   "cell_type": "markdown",
   "metadata": {
    "id": "eMPaCdQnAT2k",
    "colab_type": "text"
   },
   "source": [
    "> Note: This part is very important. Need to train with this setup of the model. "
   ]
  },
  {
   "cell_type": "code",
   "metadata": {
    "execution": {
     "iopub.execute_input": "2020-06-08T16:48:34.238631Z",
     "iopub.status.busy": "2020-06-08T16:48:34.238003Z",
     "iopub.status.idle": "2020-06-08T16:48:34.322484Z",
     "shell.execute_reply": "2020-06-08T16:48:34.320137Z",
     "shell.execute_reply.started": "2020-06-08T16:48:34.238528Z"
    },
    "id": "5Uwos44lAT2m",
    "colab_type": "code",
    "colab": {},
    "pycharm": {
     "name": "#%%\n"
    }
   },
   "source": [
    "from transformer import NoamOpt, get_std_opt"
   ],
   "execution_count": 0,
   "outputs": []
  },
  {
   "cell_type": "markdown",
   "metadata": {
    "id": "oGrcJ0mmAT29",
    "colab_type": "text",
    "pycharm": {
     "name": "#%% md\n"
    }
   },
   "source": [
    "> Example of the curves of this model for different model sizes and for optimization hyperparameters. "
   ]
  },
  {
   "cell_type": "code",
   "metadata": {
    "execution": {
     "iopub.execute_input": "2020-06-08T16:48:34.328270Z",
     "iopub.status.busy": "2020-06-08T16:48:34.327147Z",
     "iopub.status.idle": "2020-06-08T16:48:34.411969Z",
     "shell.execute_reply": "2020-06-08T16:48:34.408911Z",
     "shell.execute_reply.started": "2020-06-08T16:48:34.328086Z"
    },
    "id": "88alrWsSAT3C",
    "colab_type": "code",
    "colab": {},
    "pycharm": {
     "name": "#%%\n"
    }
   },
   "source": [
    "# # Three settings of the lrate hyperparameters.\n",
    "# opts = [NoamOpt(512, 1, 4000, None), \n",
    "#         NoamOpt(512, 1, 8000, None),\n",
    "#         NoamOpt(256, 1, 4000, None)]\n",
    "# plt.plot(np.arange(1, 20000), [[opt.rate(i) for opt in opts] for i in range(1, 20000)])\n",
    "# plt.legend([\"512:4000\", \"512:8000\", \"256:4000\"])\n",
    "# plt.show()"
   ],
   "execution_count": 0,
   "outputs": []
  },
  {
   "cell_type": "markdown",
   "metadata": {
    "id": "DjF1EKGkAT3d",
    "colab_type": "raw",
    "pycharm": {
     "name": "#%% md\n"
    }
   },
   "source": [
    "## Regularization                                                                                                                                                                                                                                                                                                                                                                                                                                                                                                                                                                                          \n",
    "                                                                                                                                                                                                                                                                                                                      \n",
    "### Label Smoothing\n",
    "\n",
    "During training, we employed label smoothing of value $\\epsilon_{ls}=0.1$ [(cite)](https://arxiv.org/abs/1512.00567).  This hurts perplexity, as the model learns to be more unsure, but improves accuracy and BLEU score.  "
   ]
  },
  {
   "cell_type": "markdown",
   "metadata": {
    "id": "h2djgwa0AT3i",
    "colab_type": "text"
   },
   "source": [
    "> We implement label smoothing using the KL div loss. Instead of using a one-hot target distribution, we create a distribution that has `confidence` of the correct word and the rest of the `smoothing` mass distributed throughout the vocabulary."
   ]
  },
  {
   "cell_type": "code",
   "metadata": {
    "execution": {
     "iopub.execute_input": "2020-06-08T16:48:34.417301Z",
     "iopub.status.busy": "2020-06-08T16:48:34.415812Z",
     "iopub.status.idle": "2020-06-08T16:48:34.498429Z",
     "shell.execute_reply": "2020-06-08T16:48:34.495009Z",
     "shell.execute_reply.started": "2020-06-08T16:48:34.417116Z"
    },
    "id": "-gAqWBG8AT3m",
    "colab_type": "code",
    "colab": {}
   },
   "source": [
    "from transformer import LabelSmoothing"
   ],
   "execution_count": 0,
   "outputs": []
  },
  {
   "cell_type": "markdown",
   "metadata": {
    "id": "Mcfk46nWAT4a",
    "colab_type": "text"
   },
   "source": [
    "> Here we can see an example of how the mass is distributed to the words based on confidence. "
   ]
  },
  {
   "cell_type": "code",
   "metadata": {
    "execution": {
     "iopub.execute_input": "2020-06-08T16:48:34.502325Z",
     "iopub.status.busy": "2020-06-08T16:48:34.501712Z",
     "iopub.status.idle": "2020-06-08T16:48:35.397549Z",
     "shell.execute_reply": "2020-06-08T16:48:35.394860Z",
     "shell.execute_reply.started": "2020-06-08T16:48:34.502224Z"
    },
    "id": "4jA40jP3AT4j",
    "colab_type": "code",
    "colab": {
     "base_uri": "https://localhost:8080/",
     "height": 269
    },
    "outputId": "b8d5dac5-28ca-46d0-fe8b-3fb70a6fbfb5",
    "pycharm": {
     "name": "#%%\n"
    }
   },
   "source": [
    "#Example of label smoothing.\n",
    "if False:\n",
    "    crit = LabelSmoothing(5, 0, 0.4)\n",
    "    predict = torch.FloatTensor([[0, 0.2, 0.7, 0.1, 0],\n",
    "                                [0, 0.2, 0.7, 0.1, 0], \n",
    "                                [0, 0.2, 0.7, 0.1, 0]])\n",
    "    v = crit(Variable(predict.log()), Variable(torch.LongTensor([2, 1, 0])))\n",
    "\n",
    "    # Show the target distributions expected by the system.\n",
    "    plt.imshow(crit.true_dist);"
   ],
   "execution_count": 87,
   "outputs": [
    {
     "output_type": "display_data",
     "data": {
      "image/png": "[encoded data removed]",
      "text/plain": [
       "<Figure size 432x288 with 1 Axes>"
      ]
     },
     "metadata": {
      "tags": [],
      "needs_background": "light"
     }
    }
   ]
  },
  {
   "cell_type": "markdown",
   "metadata": {
    "id": "wZsIFvAdAT46",
    "colab_type": "text",
    "pycharm": {
     "name": "#%% md\n"
    }
   },
   "source": [
    "> Label smoothing actually starts to penalize the model if it gets very confident about a given choice. "
   ]
  },
  {
   "cell_type": "code",
   "metadata": {
    "execution": {
     "iopub.execute_input": "2020-06-08T16:48:35.402313Z",
     "iopub.status.busy": "2020-06-08T16:48:35.401639Z",
     "iopub.status.idle": "2020-06-08T16:48:36.265310Z",
     "shell.execute_reply": "2020-06-08T16:48:36.261716Z",
     "shell.execute_reply.started": "2020-06-08T16:48:35.402211Z"
    },
    "id": "55eAqa8IAT5D",
    "colab_type": "code",
    "colab": {
     "base_uri": "https://localhost:8080/",
     "height": 279
    },
    "outputId": "f65a57ad-ce30-4ae4-944f-560f0f5d17e3",
    "pycharm": {
     "name": "#%%\n"
    }
   },
   "source": [
    "if False:\n",
    "    crit = LabelSmoothing(5, 0, 0.1)\n",
    "    def loss(x):\n",
    "        d = x + 3 * 1\n",
    "        predict = torch.FloatTensor([[0, x / d, 1 / d, 1 / d, 1 / d]])\n",
    "    #     print(predict)\n",
    "        return crit(Variable(predict.log()), Variable(torch.LongTensor([1]))).item()\n",
    "    plt.plot(np.arange(1, 100), [loss(x) for x in range(1, 100)])\n",
    "    plt.show()"
   ],
   "execution_count": 88,
   "outputs": [
    {
     "output_type": "display_data",
     "data": {
      "image/png": "[encoded data removed]",
      "text/plain": [
       "<Figure size 432x288 with 1 Axes>"
      ]
     },
     "metadata": {
      "tags": [],
      "needs_background": "light"
     }
    }
   ]
  },
  {
   "cell_type": "markdown",
   "metadata": {
    "id": "i-Mpk0deAT6F",
    "colab_type": "text",
    "pycharm": {
     "name": "#%% md\n"
    }
   },
   "source": [
    "# A First  Example\n",
    "\n",
    "> We can begin by trying out a simple copy-task. Given a random set of input symbols from a small vocabulary, the goal is to generate back those same symbols. "
   ]
  },
  {
   "cell_type": "markdown",
   "metadata": {
    "id": "GcH17BLUAT6K",
    "colab_type": "text"
   },
   "source": [
    "## Synthetic Data"
   ]
  },
  {
   "cell_type": "code",
   "metadata": {
    "execution": {
     "iopub.execute_input": "2020-06-08T16:48:36.268864Z",
     "iopub.status.busy": "2020-06-08T16:48:36.268200Z",
     "iopub.status.idle": "2020-06-08T16:48:36.348480Z",
     "shell.execute_reply": "2020-06-08T16:48:36.345937Z",
     "shell.execute_reply.started": "2020-06-08T16:48:36.268758Z"
    },
    "id": "sBupTV9LAT6R",
    "colab_type": "code",
    "colab": {}
   },
   "source": [
    "def data_gen(V, batch, nbatches):\n",
    "    \"Generate random data for a src-tgt copy task.\"\n",
    "    for i in range(nbatches):\n",
    "        data = torch.from_numpy(np.random.randint(1, V, size=(batch, 10)))\n",
    "        data[:, 0] = 1\n",
    "        src = Variable(data, requires_grad=False)\n",
    "        tgt = Variable(data, requires_grad=False)\n",
    "        yield Batch(src, tgt, 0)"
   ],
   "execution_count": 0,
   "outputs": []
  },
  {
   "cell_type": "code",
   "metadata": {
    "execution": {
     "iopub.execute_input": "2020-06-08T16:48:36.354428Z",
     "iopub.status.busy": "2020-06-08T16:48:36.352958Z",
     "iopub.status.idle": "2020-06-08T16:48:36.459016Z",
     "shell.execute_reply": "2020-06-08T16:48:36.456051Z",
     "shell.execute_reply.started": "2020-06-08T16:48:36.354249Z"
    },
    "id": "2lrUTKayAT6p",
    "colab_type": "code",
    "colab": {},
    "pycharm": {
     "name": "#%%\n"
    }
   },
   "source": [
    "# b = list(data_gen(11, 2, 1))[0]"
   ],
   "execution_count": 0,
   "outputs": []
  },
  {
   "cell_type": "markdown",
   "metadata": {
    "id": "YRlKP0ZWAT7H",
    "colab_type": "text",
    "pycharm": {
     "name": "#%% md\n"
    }
   },
   "source": [
    "## Loss Computation"
   ]
  },
  {
   "cell_type": "code",
   "metadata": {
    "execution": {
     "iopub.execute_input": "2020-06-08T16:48:36.465359Z",
     "iopub.status.busy": "2020-06-08T16:48:36.463711Z",
     "iopub.status.idle": "2020-06-08T16:48:36.540197Z",
     "shell.execute_reply": "2020-06-08T16:48:36.538358Z",
     "shell.execute_reply.started": "2020-06-08T16:48:36.465168Z"
    },
    "id": "9r0zbVsSAT7K",
    "colab_type": "code",
    "colab": {},
    "pycharm": {
     "name": "#%%\n"
    }
   },
   "source": [
    "from transformer import SimpleLossCompute"
   ],
   "execution_count": 0,
   "outputs": []
  },
  {
   "cell_type": "markdown",
   "metadata": {
    "id": "dS_jZhv0AT7a",
    "colab_type": "text",
    "pycharm": {
     "name": "#%% md\n"
    }
   },
   "source": [
    "## Greedy Decoding"
   ]
  },
  {
   "cell_type": "code",
   "metadata": {
    "execution": {
     "iopub.execute_input": "2020-06-08T16:48:36.544287Z",
     "iopub.status.busy": "2020-06-08T16:48:36.543257Z",
     "iopub.status.idle": "2020-06-08T16:48:36.642473Z",
     "shell.execute_reply": "2020-06-08T16:48:36.639640Z",
     "shell.execute_reply.started": "2020-06-08T16:48:36.544184Z"
    },
    "id": "GYWx_hI8AT7n",
    "colab_type": "code",
    "colab": {},
    "pycharm": {
     "name": "#%%\n"
    }
   },
   "source": [
    "# Train the simple copy task.\n",
    "if False:\n",
    "    from transformer import run_epoch\n",
    "\n",
    "    V = 11\n",
    "    criterion = transformer.LabelSmoothing(size=V, padding_idx=0, smoothing=0.0)\n",
    "    model = transformer.make_model(V, V, N=2)\n",
    "    model_opt = transformer.NoamOpt(model.src_embed[0].d_model, 1, 400, torch.optim.Adam(model.parameters(), lr=0, betas=(0.9, 0.98), eps=1e-9))\n",
    "    writer = torch.utils.tensorboard.SummaryWriter()\n",
    "    for epoch in range(10):\n",
    "        model.train()\n",
    "        transformer.run_epoch(data_gen(V, 50, 20), model, SimpleLossCompute(model.generator, criterion, model_opt), writer=writer, writer_step0=epoch*20)\n",
    "        model.eval()\n",
    "        print(f'epoch {epoch}: loss/token {transformer.run_epoch(data_gen(V, 30, 5), model, SimpleLossCompute(model.generator, criterion, None)):.6f}')    \n",
    "    writer.close()"
   ],
   "execution_count": 0,
   "outputs": []
  },
  {
   "cell_type": "markdown",
   "metadata": {
    "id": "OQbYVALaAT8H",
    "colab_type": "text",
    "pycharm": {
     "name": "#%% md\n"
    }
   },
   "source": [
    "> This code predicts a translation using greedy decoding for simplicity. "
   ]
  },
  {
   "cell_type": "code",
   "metadata": {
    "execution": {
     "iopub.execute_input": "2020-06-08T16:48:36.646744Z",
     "iopub.status.busy": "2020-06-08T16:48:36.646038Z",
     "iopub.status.idle": "2020-06-08T16:48:36.747468Z",
     "shell.execute_reply": "2020-06-08T16:48:36.744740Z",
     "shell.execute_reply.started": "2020-06-08T16:48:36.646582Z"
    },
    "id": "YU0mZ4YaAT8J",
    "colab_type": "code",
    "colab": {},
    "pycharm": {
     "name": "#%%\n"
    }
   },
   "source": [
    "from transformer import greedy_decode"
   ],
   "execution_count": 0,
   "outputs": []
  },
  {
   "cell_type": "code",
   "metadata": {
    "execution": {
     "iopub.execute_input": "2020-06-08T16:48:36.751034Z",
     "iopub.status.busy": "2020-06-08T16:48:36.750369Z",
     "iopub.status.idle": "2020-06-08T16:48:36.829687Z",
     "shell.execute_reply": "2020-06-08T16:48:36.827917Z",
     "shell.execute_reply.started": "2020-06-08T16:48:36.750903Z"
    },
    "id": "QwrD9x5RAT8a",
    "colab_type": "code",
    "colab": {},
    "pycharm": {
     "name": "#%%\n"
    }
   },
   "source": [
    "if False:\n",
    "    model.eval()\n",
    "    src = Variable(torch.LongTensor([[1, 2, 3, 4, 5, 6, 7, 8, 9, 10]]))\n",
    "    src_mask = Variable(torch.ones(1, 1, 10))\n",
    "    print(greedy_decode(model, src, src_mask, max_len=10, start_symbol=1))"
   ],
   "execution_count": 0,
   "outputs": []
  },
  {
   "cell_type": "markdown",
   "metadata": {
    "id": "KaC6ehI8AT83",
    "colab_type": "text",
    "pycharm": {
     "name": "#%% md\n"
    }
   },
   "source": [
    "# A Real World Example\n",
    "\n",
    "> Now we consider a real-world example using the IWSLT German-English Translation task. This task is much smaller than the WMT task considered in the paper, but it illustrates the whole system. We also show how to use multi-gpu processing to make it really fast."
   ]
  },
  {
   "cell_type": "code",
   "metadata": {
    "execution": {
     "iopub.execute_input": "2020-06-08T16:48:36.833696Z",
     "iopub.status.busy": "2020-06-08T16:48:36.832709Z",
     "iopub.status.idle": "2020-06-08T16:48:36.896355Z",
     "shell.execute_reply": "2020-06-08T16:48:36.892929Z",
     "shell.execute_reply.started": "2020-06-08T16:48:36.833596Z"
    },
    "id": "_NLtMBdlAT87",
    "colab_type": "code",
    "colab": {
     "base_uri": "https://localhost:8080/",
     "height": 1000
    },
    "outputId": "f46d6a22-bc01-4f48-fbb1-db540202727c",
    "pycharm": {
     "name": "#%%\n"
    }
   },
   "source": [
    "!pip install torchtext spacy\n",
    "!python -m spacy download en\n",
    "!python -m spacy download de"
   ],
   "execution_count": 95,
   "outputs": [
    {
     "output_type": "stream",
     "text": [
      "Requirement already satisfied: torchtext in /usr/local/lib/python3.6/dist-packages (0.3.1)\n",
      "Requirement already satisfied: spacy in /usr/local/lib/python3.6/dist-packages (2.2.4)\n",
      "Requirement already satisfied: torch in /usr/local/lib/python3.6/dist-packages (from torchtext) (1.5.0+cu101)\n",
      "Requirement already satisfied: tqdm in /usr/local/lib/python3.6/dist-packages (from torchtext) (4.41.1)\n",
      "Requirement already satisfied: numpy in /usr/local/lib/python3.6/dist-packages (from torchtext) (1.18.4)\n",
      "Requirement already satisfied: requests in /usr/local/lib/python3.6/dist-packages (from torchtext) (2.23.0)\n",
      "Requirement already satisfied: murmurhash<1.1.0,>=0.28.0 in /usr/local/lib/python3.6/dist-packages (from spacy) (1.0.2)\n",
      "Requirement already satisfied: catalogue<1.1.0,>=0.0.7 in /usr/local/lib/python3.6/dist-packages (from spacy) (1.0.0)\n",
      "Requirement already satisfied: cymem<2.1.0,>=2.0.2 in /usr/local/lib/python3.6/dist-packages (from spacy) (2.0.3)\n",
      "Requirement already satisfied: plac<1.2.0,>=0.9.6 in /usr/local/lib/python3.6/dist-packages (from spacy) (1.1.3)\n",
      "Requirement already satisfied: thinc==7.4.0 in /usr/local/lib/python3.6/dist-packages (from spacy) (7.4.0)\n",
      "Requirement already satisfied: setuptools in /usr/local/lib/python3.6/dist-packages (from spacy) (47.1.1)\n",
      "Requirement already satisfied: blis<0.5.0,>=0.4.0 in /usr/local/lib/python3.6/dist-packages (from spacy) (0.4.1)\n",
      "Requirement already satisfied: preshed<3.1.0,>=3.0.2 in /usr/local/lib/python3.6/dist-packages (from spacy) (3.0.2)\n",
      "Requirement already satisfied: wasabi<1.1.0,>=0.4.0 in /usr/local/lib/python3.6/dist-packages (from spacy) (0.6.0)\n",
      "Requirement already satisfied: srsly<1.1.0,>=1.0.2 in /usr/local/lib/python3.6/dist-packages (from spacy) (1.0.2)\n",
      "Requirement already satisfied: future in /usr/local/lib/python3.6/dist-packages (from torch->torchtext) (0.16.0)\n",
      "Requirement already satisfied: urllib3!=1.25.0,!=1.25.1,<1.26,>=1.21.1 in /usr/local/lib/python3.6/dist-packages (from requests->torchtext) (1.24.3)\n",
      "Requirement already satisfied: certifi>=2017.4.17 in /usr/local/lib/python3.6/dist-packages (from requests->torchtext) (2020.4.5.1)\n",
      "Requirement already satisfied: idna<3,>=2.5 in /usr/local/lib/python3.6/dist-packages (from requests->torchtext) (2.9)\n",
      "Requirement already satisfied: chardet<4,>=3.0.2 in /usr/local/lib/python3.6/dist-packages (from requests->torchtext) (3.0.4)\n",
      "Requirement already satisfied: importlib-metadata>=0.20; python_version < \"3.8\" in /usr/local/lib/python3.6/dist-packages (from catalogue<1.1.0,>=0.0.7->spacy) (1.6.0)\n",
      "Requirement already satisfied: zipp>=0.5 in /usr/local/lib/python3.6/dist-packages (from importlib-metadata>=0.20; python_version < \"3.8\"->catalogue<1.1.0,>=0.0.7->spacy) (3.1.0)\n",
      "Requirement already satisfied: en_core_web_sm==2.2.5 from https://github.com/explosion/spacy-models/releases/download/en_core_web_sm-2.2.5/en_core_web_sm-2.2.5.tar.gz#egg=en_core_web_sm==2.2.5 in /usr/local/lib/python3.6/dist-packages (2.2.5)\n",
      "Requirement already satisfied: spacy>=2.2.2 in /usr/local/lib/python3.6/dist-packages (from en_core_web_sm==2.2.5) (2.2.4)\n",
      "Requirement already satisfied: murmurhash<1.1.0,>=0.28.0 in /usr/local/lib/python3.6/dist-packages (from spacy>=2.2.2->en_core_web_sm==2.2.5) (1.0.2)\n",
      "Requirement already satisfied: wasabi<1.1.0,>=0.4.0 in /usr/local/lib/python3.6/dist-packages (from spacy>=2.2.2->en_core_web_sm==2.2.5) (0.6.0)\n",
      "Requirement already satisfied: catalogue<1.1.0,>=0.0.7 in /usr/local/lib/python3.6/dist-packages (from spacy>=2.2.2->en_core_web_sm==2.2.5) (1.0.0)\n",
      "Requirement already satisfied: preshed<3.1.0,>=3.0.2 in /usr/local/lib/python3.6/dist-packages (from spacy>=2.2.2->en_core_web_sm==2.2.5) (3.0.2)\n",
      "Requirement already satisfied: numpy>=1.15.0 in /usr/local/lib/python3.6/dist-packages (from spacy>=2.2.2->en_core_web_sm==2.2.5) (1.18.4)\n",
      "Requirement already satisfied: thinc==7.4.0 in /usr/local/lib/python3.6/dist-packages (from spacy>=2.2.2->en_core_web_sm==2.2.5) (7.4.0)\n",
      "Requirement already satisfied: blis<0.5.0,>=0.4.0 in /usr/local/lib/python3.6/dist-packages (from spacy>=2.2.2->en_core_web_sm==2.2.5) (0.4.1)\n",
      "Requirement already satisfied: plac<1.2.0,>=0.9.6 in /usr/local/lib/python3.6/dist-packages (from spacy>=2.2.2->en_core_web_sm==2.2.5) (1.1.3)\n",
      "Requirement already satisfied: requests<3.0.0,>=2.13.0 in /usr/local/lib/python3.6/dist-packages (from spacy>=2.2.2->en_core_web_sm==2.2.5) (2.23.0)\n",
      "Requirement already satisfied: cymem<2.1.0,>=2.0.2 in /usr/local/lib/python3.6/dist-packages (from spacy>=2.2.2->en_core_web_sm==2.2.5) (2.0.3)\n",
      "Requirement already satisfied: srsly<1.1.0,>=1.0.2 in /usr/local/lib/python3.6/dist-packages (from spacy>=2.2.2->en_core_web_sm==2.2.5) (1.0.2)\n",
      "Requirement already satisfied: setuptools in /usr/local/lib/python3.6/dist-packages (from spacy>=2.2.2->en_core_web_sm==2.2.5) (47.1.1)\n",
      "Requirement already satisfied: tqdm<5.0.0,>=4.38.0 in /usr/local/lib/python3.6/dist-packages (from spacy>=2.2.2->en_core_web_sm==2.2.5) (4.41.1)\n",
      "Requirement already satisfied: importlib-metadata>=0.20; python_version < \"3.8\" in /usr/local/lib/python3.6/dist-packages (from catalogue<1.1.0,>=0.0.7->spacy>=2.2.2->en_core_web_sm==2.2.5) (1.6.0)\n",
      "Requirement already satisfied: certifi>=2017.4.17 in /usr/local/lib/python3.6/dist-packages (from requests<3.0.0,>=2.13.0->spacy>=2.2.2->en_core_web_sm==2.2.5) (2020.4.5.1)\n",
      "Requirement already satisfied: idna<3,>=2.5 in /usr/local/lib/python3.6/dist-packages (from requests<3.0.0,>=2.13.0->spacy>=2.2.2->en_core_web_sm==2.2.5) (2.9)\n",
      "Requirement already satisfied: chardet<4,>=3.0.2 in /usr/local/lib/python3.6/dist-packages (from requests<3.0.0,>=2.13.0->spacy>=2.2.2->en_core_web_sm==2.2.5) (3.0.4)\n",
      "Requirement already satisfied: urllib3!=1.25.0,!=1.25.1,<1.26,>=1.21.1 in /usr/local/lib/python3.6/dist-packages (from requests<3.0.0,>=2.13.0->spacy>=2.2.2->en_core_web_sm==2.2.5) (1.24.3)\n",
      "Requirement already satisfied: zipp>=0.5 in /usr/local/lib/python3.6/dist-packages (from importlib-metadata>=0.20; python_version < \"3.8\"->catalogue<1.1.0,>=0.0.7->spacy>=2.2.2->en_core_web_sm==2.2.5) (3.1.0)\n",
      "\u001B[38;5;2m✔ Download and installation successful\u001B[0m\n",
      "You can now load the model via spacy.load('en_core_web_sm')\n",
      "\u001B[38;5;2m✔ Linking successful\u001B[0m\n",
      "/usr/local/lib/python3.6/dist-packages/en_core_web_sm -->\n",
      "/usr/local/lib/python3.6/dist-packages/spacy/data/en\n",
      "You can now load the model via spacy.load('en')\n",
      "Requirement already satisfied: de_core_news_sm==2.2.5 from https://github.com/explosion/spacy-models/releases/download/de_core_news_sm-2.2.5/de_core_news_sm-2.2.5.tar.gz#egg=de_core_news_sm==2.2.5 in /usr/local/lib/python3.6/dist-packages (2.2.5)\n",
      "Requirement already satisfied: spacy>=2.2.2 in /usr/local/lib/python3.6/dist-packages (from de_core_news_sm==2.2.5) (2.2.4)\n",
      "Requirement already satisfied: srsly<1.1.0,>=1.0.2 in /usr/local/lib/python3.6/dist-packages (from spacy>=2.2.2->de_core_news_sm==2.2.5) (1.0.2)\n",
      "Requirement already satisfied: blis<0.5.0,>=0.4.0 in /usr/local/lib/python3.6/dist-packages (from spacy>=2.2.2->de_core_news_sm==2.2.5) (0.4.1)\n",
      "Requirement already satisfied: tqdm<5.0.0,>=4.38.0 in /usr/local/lib/python3.6/dist-packages (from spacy>=2.2.2->de_core_news_sm==2.2.5) (4.41.1)\n",
      "Requirement already satisfied: setuptools in /usr/local/lib/python3.6/dist-packages (from spacy>=2.2.2->de_core_news_sm==2.2.5) (47.1.1)\n",
      "Requirement already satisfied: thinc==7.4.0 in /usr/local/lib/python3.6/dist-packages (from spacy>=2.2.2->de_core_news_sm==2.2.5) (7.4.0)\n",
      "Requirement already satisfied: catalogue<1.1.0,>=0.0.7 in /usr/local/lib/python3.6/dist-packages (from spacy>=2.2.2->de_core_news_sm==2.2.5) (1.0.0)\n",
      "Requirement already satisfied: cymem<2.1.0,>=2.0.2 in /usr/local/lib/python3.6/dist-packages (from spacy>=2.2.2->de_core_news_sm==2.2.5) (2.0.3)\n",
      "Requirement already satisfied: numpy>=1.15.0 in /usr/local/lib/python3.6/dist-packages (from spacy>=2.2.2->de_core_news_sm==2.2.5) (1.18.4)\n",
      "Requirement already satisfied: wasabi<1.1.0,>=0.4.0 in /usr/local/lib/python3.6/dist-packages (from spacy>=2.2.2->de_core_news_sm==2.2.5) (0.6.0)\n",
      "Requirement already satisfied: plac<1.2.0,>=0.9.6 in /usr/local/lib/python3.6/dist-packages (from spacy>=2.2.2->de_core_news_sm==2.2.5) (1.1.3)\n",
      "Requirement already satisfied: preshed<3.1.0,>=3.0.2 in /usr/local/lib/python3.6/dist-packages (from spacy>=2.2.2->de_core_news_sm==2.2.5) (3.0.2)\n",
      "Requirement already satisfied: murmurhash<1.1.0,>=0.28.0 in /usr/local/lib/python3.6/dist-packages (from spacy>=2.2.2->de_core_news_sm==2.2.5) (1.0.2)\n",
      "Requirement already satisfied: requests<3.0.0,>=2.13.0 in /usr/local/lib/python3.6/dist-packages (from spacy>=2.2.2->de_core_news_sm==2.2.5) (2.23.0)\n",
      "Requirement already satisfied: importlib-metadata>=0.20; python_version < \"3.8\" in /usr/local/lib/python3.6/dist-packages (from catalogue<1.1.0,>=0.0.7->spacy>=2.2.2->de_core_news_sm==2.2.5) (1.6.0)\n",
      "Requirement already satisfied: idna<3,>=2.5 in /usr/local/lib/python3.6/dist-packages (from requests<3.0.0,>=2.13.0->spacy>=2.2.2->de_core_news_sm==2.2.5) (2.9)\n",
      "Requirement already satisfied: urllib3!=1.25.0,!=1.25.1,<1.26,>=1.21.1 in /usr/local/lib/python3.6/dist-packages (from requests<3.0.0,>=2.13.0->spacy>=2.2.2->de_core_news_sm==2.2.5) (1.24.3)\n",
      "Requirement already satisfied: certifi>=2017.4.17 in /usr/local/lib/python3.6/dist-packages (from requests<3.0.0,>=2.13.0->spacy>=2.2.2->de_core_news_sm==2.2.5) (2020.4.5.1)\n",
      "Requirement already satisfied: chardet<4,>=3.0.2 in /usr/local/lib/python3.6/dist-packages (from requests<3.0.0,>=2.13.0->spacy>=2.2.2->de_core_news_sm==2.2.5) (3.0.4)\n",
      "Requirement already satisfied: zipp>=0.5 in /usr/local/lib/python3.6/dist-packages (from importlib-metadata>=0.20; python_version < \"3.8\"->catalogue<1.1.0,>=0.0.7->spacy>=2.2.2->de_core_news_sm==2.2.5) (3.1.0)\n",
      "\u001B[38;5;2m✔ Download and installation successful\u001B[0m\n",
      "You can now load the model via spacy.load('de_core_news_sm')\n",
      "\u001B[38;5;2m✔ Linking successful\u001B[0m\n",
      "/usr/local/lib/python3.6/dist-packages/de_core_news_sm -->\n",
      "/usr/local/lib/python3.6/dist-packages/spacy/data/de\n",
      "You can now load the model via spacy.load('de')\n"
     ],
     "name": "stdout"
    }
   ]
  },
  {
   "cell_type": "markdown",
   "metadata": {
    "id": "_wLXO1s_AT9P",
    "colab_type": "text",
    "pycharm": {
     "name": "#%% md\n"
    }
   },
   "source": [
    "## Data Loading\n",
    "> We will load the dataset using torchtext and spacy for tokenization. "
   ]
  },
  {
   "cell_type": "code",
   "metadata": {
    "execution": {
     "iopub.execute_input": "2020-06-08T16:48:36.902492Z",
     "iopub.status.busy": "2020-06-08T16:48:36.901322Z",
     "iopub.status.idle": "2020-06-08T16:52:56.261361Z",
     "shell.execute_reply": "2020-06-08T16:52:56.254651Z",
     "shell.execute_reply.started": "2020-06-08T16:48:36.902273Z"
    },
    "id": "M0iUo1TfAT9R",
    "colab_type": "code",
    "colab": {},
    "pycharm": {
     "name": "#%%\n"
    }
   },
   "source": [
    "# For data loading.\n",
    "from torchtext import data, datasets\n",
    "\n",
    "if True:\n",
    "    import spacy\n",
    "    spacy_de = spacy.load('de')\n",
    "    spacy_en = spacy.load('en')\n",
    "\n",
    "    def tokenize_de(text):\n",
    "        return [tok.text for tok in spacy_de.tokenizer(text)]\n",
    "\n",
    "    def tokenize_en(text):\n",
    "        return [tok.text for tok in spacy_en.tokenizer(text)]\n",
    "\n",
    "    BOS_WORD = '<s>'\n",
    "    EOS_WORD = '</s>'\n",
    "    BLANK_WORD = \"<blank>\"\n",
    "    SRC = data.Field(tokenize=tokenize_de, pad_token=BLANK_WORD)\n",
    "    TGT = data.Field(tokenize=tokenize_en, init_token = BOS_WORD, eos_token = EOS_WORD, pad_token=BLANK_WORD)\n",
    "\n",
    "    MAX_LEN = 100\n",
    "    train, valid, test = datasets.IWSLT.splits(\n",
    "        exts=('.de', '.en'), fields=(SRC, TGT), \n",
    "        filter_pred=lambda x: len(vars(x)['src']) <= MAX_LEN and len(vars(x)['trg']) <= MAX_LEN)\n",
    "    MIN_FREQ = 2\n",
    "    SRC.build_vocab(train.src, min_freq=MIN_FREQ)\n",
    "    TGT.build_vocab(train.trg, min_freq=MIN_FREQ)"
   ],
   "execution_count": 0,
   "outputs": []
  },
  {
   "cell_type": "markdown",
   "metadata": {
    "id": "0Ldlu2seAT9j",
    "colab_type": "text",
    "pycharm": {
     "name": "#%% md\n"
    }
   },
   "source": [
    "> Batching matters a ton for speed. We want to have very evenly divided batches, with absolutely minimal padding. To do this we have to hack a bit around the default torchtext batching. This code patches their default batching to make sure we search over enough sentences to find tight batches. "
   ]
  },
  {
   "cell_type": "markdown",
   "metadata": {
    "id": "UpPBO-sPAT9w",
    "colab_type": "text"
   },
   "source": [
    "## Iterators"
   ]
  },
  {
   "cell_type": "code",
   "metadata": {
    "execution": {
     "iopub.execute_input": "2020-06-08T16:52:56.267558Z",
     "iopub.status.busy": "2020-06-08T16:52:56.266689Z",
     "iopub.status.idle": "2020-06-08T16:52:56.367813Z",
     "shell.execute_reply": "2020-06-08T16:52:56.365036Z",
     "shell.execute_reply.started": "2020-06-08T16:52:56.267430Z"
    },
    "id": "vk9mC7D2AT9-",
    "colab_type": "code",
    "colab": {},
    "pycharm": {
     "name": "#%%\n"
    }
   },
   "source": [
    "# from transformer import MyIterator\n",
    "\n",
    "def rebatch(batch, pad_idx):\n",
    "    \"Fix order in torchtext to match ours\"\n",
    "    src, trg = batch.src.transpose(0, 1), batch.trg.transpose(0, 1)\n",
    "    return transformer.Batch(src, trg, pad_idx)"
   ],
   "execution_count": 0,
   "outputs": []
  },
  {
   "cell_type": "markdown",
   "metadata": {
    "id": "Vw7cXEeiAT-N",
    "colab_type": "text",
    "pycharm": {
     "name": "#%% md\n"
    }
   },
   "source": [
    "## Multi-GPU Training\n",
    "\n",
    "> Finally to really target fast training, we will use multi-gpu. This code implements multi-gpu word generation. It is not specific to transformer so I won't go into too much detail. The idea is to split up word generation at training time into chunks to be processed in parallel across many different gpus. We do this using pytorch parallel primitives:\n",
    "\n",
    "* replicate - split modules onto different gpus.\n",
    "* scatter - split batches onto different gpus\n",
    "* parallel_apply - apply module to batches on different gpus\n",
    "* gather - pull scattered data back onto one gpu. \n",
    "* nn.DataParallel - a special module wrapper that calls these all before evaluating. \n"
   ]
  },
  {
   "cell_type": "code",
   "metadata": {
    "execution": {
     "iopub.execute_input": "2020-06-08T16:52:56.372753Z",
     "iopub.status.busy": "2020-06-08T16:52:56.372023Z",
     "iopub.status.idle": "2020-06-08T16:52:56.439638Z",
     "shell.execute_reply": "2020-06-08T16:52:56.436523Z",
     "shell.execute_reply.started": "2020-06-08T16:52:56.372645Z"
    },
    "id": "j_1ZP29oAT-S",
    "colab_type": "code",
    "colab": {}
   },
   "source": [
    "# from transformer import MultiGPULossCompute"
   ],
   "execution_count": 0,
   "outputs": []
  },
  {
   "cell_type": "markdown",
   "source": [
    "> Now we create our model, criterion, optimizer, data iterators, and paralelization"
   ],
   "metadata": {
    "collapsed": false
   }
  },
  {
   "cell_type": "code",
   "execution_count": null,
   "outputs": [],
   "source": [
    "# GPUs to use\n",
    "devices = [0, 1, 2, 3]\n",
    "if False:\n",
    "    pad_idx = TGT.vocab.stoi[\"<blank>\"]\n",
    "    model = make_model(len(SRC.vocab), len(TGT.vocab), N=6)\n",
    "    model.cuda()\n",
    "    criterion = LabelSmoothing(size=len(TGT.vocab), padding_idx=pad_idx, smoothing=0.1)\n",
    "    criterion.cuda()\n",
    "    BATCH_SIZE = 12000\n",
    "    train_iter = MyIterator(train, batch_size=BATCH_SIZE, device=0,\n",
    "                            repeat=False, sort_key=lambda x: (len(x.src), len(x.trg)),\n",
    "                            batch_size_fn=batch_size_fn, train=True)\n",
    "    valid_iter = MyIterator(val, batch_size=BATCH_SIZE, device=0,\n",
    "                            repeat=False, sort_key=lambda x: (len(x.src), len(x.trg)),\n",
    "                            batch_size_fn=batch_size_fn, train=False)\n",
    "    model_par = nn.DataParallel(model, device_ids=devices)"
   ],
   "metadata": {
    "collapsed": false,
    "pycharm": {
     "name": "#%%\n"
    }
   }
  },
  {
   "cell_type": "markdown",
   "source": [
    "> Now we train the model. I will play with the warmup steps a bit, but everything else uses the default parameters.  On an AWS p3.8xlarge with 4 Tesla V100s, this runs at ~27,000 tokens per second with a batch size of 12,000 "
   ],
   "metadata": {
    "collapsed": false
   }
  },
  {
   "cell_type": "markdown",
   "source": [
    "## Training the System"
   ],
   "metadata": {
    "collapsed": false
   }
  },
  {
   "cell_type": "code",
   "execution_count": null,
   "outputs": [],
   "source": [
    "#!wget https://s3.amazonaws.com/opennmt-models/iwslt.pt"
   ],
   "metadata": {
    "collapsed": false,
    "pycharm": {
     "name": "#%%\n"
    }
   }
  },
  {
   "cell_type": "code",
   "execution_count": null,
   "outputs": [],
   "source": [
    "# train on CPU\n",
    "if False:\n",
    "    EPOCHS, BATCH_SIZE = 2, 2000\n",
    "    pad_idx    = TGT.vocab.stoi[\"<blank>\"]\n",
    "    model      = transformer.make_model(len(SRC.vocab), len(TGT.vocab), N=6)\n",
    "    crit       = transformer.LabelSmoothing(size=len(TGT.vocab), padding_idx=pad_idx, smoothing=0.1)\n",
    "    train_iter = transformer.MyIterator(train, batch_size=BATCH_SIZE, sort_key=lambda x: (len(x.src), len(x.trg)),\n",
    "                                        batch_size_fn=transformer.batch_size_fn, train=True,  repeat=False)\n",
    "    valid_iter = transformer.MyIterator(valid, batch_size=BATCH_SIZE, sort_key=lambda x: (len(x.src), len(x.trg)),\n",
    "                                        batch_size_fn=transformer.batch_size_fn, train=False, repeat=False)\n",
    "    \n",
    "    writer, step0 = torch.utils.tensorboard.SummaryWriter(flush_secs=15), 0\n",
    "    model_opt = transformer.NoamOpt(model.src_embed[0].d_model, 1, 2000, torch.optim.Adam(model.parameters(), lr=0, betas=(0.9, 0.98), eps=1e-9))\n",
    "    for epoch in range(EPOCHS):\n",
    "        print(f'epoch {epoch}:')\n",
    "        model.train()\n",
    "        loss, nbatches, nitems, ntokens = transformer.run_epoch((rebatch(b, pad_idx) for b in itertools.islice(train_iter, 10)), model,\n",
    "                                                                SimpleLossCompute(model.generator, crit, model_opt), writer=writer, writer_step0=step0)\n",
    "        step0 += nbatches\n",
    "        \n",
    "        model.eval()\n",
    "        loss, nbatches, nitems, ntokens = transformer.run_epoch((rebatch(b, pad_idx) for b in itertools.islice(valid_iter, 10)), model,\n",
    "                                                                SimpleLossCompute(model.generator, crit, model_opt))\n",
    "        print(f'  ----           {loss/ntokens:.6f} loss/token, {ntokens/nitems:>4.1f} tokens/item')    \n",
    "    writer.close()\n",
    "else:\n",
    "    model = torch.load(\"iwslt.pt\", map_location=torch.device('cpu'))"
   ],
   "metadata": {
    "collapsed": false,
    "pycharm": {
     "name": "#%%\n"
    }
   }
  },
  {
   "cell_type": "code",
   "execution_count": null,
   "outputs": [],
   "source": [
    "import gc\n",
    "gc.collect()"
   ],
   "metadata": {
    "collapsed": false,
    "pycharm": {
     "name": "#%%\n"
    }
   }
  },
  {
   "cell_type": "code",
   "execution_count": null,
   "outputs": [],
   "source": [
    "\n",
    "# Skip if not interested in multigpu.\n",
    "class MultiGPULossCompute:\n",
    "    \"A multi-gpu loss compute and train function.\"\n",
    "\n",
    "    def __init__(self, generator, criterion, devices, opt=None, chunk_size=5):\n",
    "        # Send out to different gpus.\n",
    "        self.generator = generator\n",
    "        self.criterion = nn.parallel.replicate(criterion, devices=devices)\n",
    "        self.opt = opt\n",
    "        self.devices = devices\n",
    "        self.chunk_size = chunk_size\n",
    "\n",
    "    def __call__(self, out, targets, normalize):\n",
    "        total = 0.0\n",
    "        generator = nn.parallel.replicate(self.generator, devices=self.devices)\n",
    "        out_scatter = nn.parallel.scatter(out, target_gpus=self.devices)\n",
    "        out_grad = [[] for _ in out_scatter]\n",
    "        targets = nn.parallel.scatter(targets, target_gpus=self.devices)\n",
    "\n",
    "        # Divide generating into chunks.\n",
    "        chunk_size = self.chunk_size\n",
    "        for i in range(0, out_scatter[0].size(1), chunk_size):\n",
    "            # Predict distributions\n",
    "            out_column = [[Variable(o[:, i:i + chunk_size].data, requires_grad=self.opt is not None)] for o in out_scatter]\n",
    "            gen = nn.parallel.parallel_apply(generator, out_column)\n",
    "\n",
    "            # Compute loss.\n",
    "            y = [(g.contiguous().view(-1, g.size(-1)), t[:, i:i + chunk_size].contiguous().view(-1)) for g, t in zip(gen, targets)]\n",
    "            loss = nn.parallel.parallel_apply(self.criterion, y)\n",
    "\n",
    "            # Sum and normalize loss\n",
    "            l = nn.parallel.gather(loss, target_device=self.devices[0])\n",
    "            if i == 0: print(l.shape)\n",
    "            l = l.sum() / normalize\n",
    "            total += l.data.item()\n",
    "\n",
    "            # Backprop loss to output of transformer\n",
    "            if self.opt is not None:\n",
    "                l.backward()\n",
    "                for j, l in enumerate(loss):\n",
    "                    out_grad[j].append(out_column[j][0].grad.data.clone())\n",
    "\n",
    "        # Backprop all loss through transformer.\n",
    "        if self.opt is not None:\n",
    "            out_grad = [Variable(torch.cat(og, dim=1)) for og in out_grad]\n",
    "            o1 = out\n",
    "            o2 = nn.parallel.gather(out_grad, target_device=self.devices[0])\n",
    "            o1.backward(gradient=o2)\n",
    "            self.opt.step()\n",
    "            self.opt.optimizer.zero_grad()\n",
    "        return total * normalize"
   ],
   "metadata": {
    "collapsed": false,
    "pycharm": {
     "name": "#%%\n"
    }
   }
  },
  {
   "cell_type": "code",
   "execution_count": null,
   "outputs": [],
   "source": [
    "!nvidia-smi"
   ],
   "metadata": {
    "collapsed": false,
    "pycharm": {
     "name": "#%%\n"
    }
   }
  },
  {
   "cell_type": "code",
   "execution_count": null,
   "outputs": [],
   "source": [
    "import gc\n",
    "torch.cuda.empty_cache()\n",
    "gc.collect()"
   ],
   "metadata": {
    "collapsed": false,
    "pycharm": {
     "name": "#%%\n"
    }
   }
  },
  {
   "cell_type": "code",
   "execution_count": null,
   "outputs": [],
   "source": [
    "!ps -aux|grep python"
   ],
   "metadata": {
    "collapsed": false,
    "pycharm": {
     "name": "#%%\n"
    }
   }
  },
  {
   "cell_type": "code",
   "execution_count": null,
   "outputs": [],
   "source": [
    "!kill -9 124"
   ],
   "metadata": {
    "collapsed": false,
    "pycharm": {
     "name": "#%%\n"
    }
   }
  },
  {
   "cell_type": "code",
   "execution_count": null,
   "outputs": [],
   "source": [
    "!nvidia-smi"
   ],
   "metadata": {
    "collapsed": false,
    "pycharm": {
     "name": "#%%\n"
    }
   }
  },
  {
   "cell_type": "code",
   "execution_count": null,
   "outputs": [],
   "source": [
    "if True:\n",
    "    # GPUs to use\n",
    "    devices = [0]\n",
    "    EPOCHS, BATCH_SIZE = 2, 3000\n",
    "    pad_idx    = TGT.vocab.stoi[\"<blank>\"]\n",
    "    model      = transformer.make_model(len(SRC.vocab), len(TGT.vocab), N=6)\n",
    "    crit       = transformer.LabelSmoothing(size=len(TGT.vocab), padding_idx=pad_idx, smoothing=0.1)\n",
    "    train_iter = transformer.MyIterator(train, batch_size=BATCH_SIZE, sort_key=lambda x: (len(x.src), len(x.trg)), device='cuda',\n",
    "                                        batch_size_fn=transformer.batch_size_fn, train=True,  repeat=False)\n",
    "    valid_iter = transformer.MyIterator(valid, batch_size=BATCH_SIZE, sort_key=lambda x: (len(x.src), len(x.trg)), device='cuda',\n",
    "                                        batch_size_fn=transformer.batch_size_fn, train=False, repeat=False)\n",
    "    model.cuda()\n",
    "    crit.cuda()\n",
    "    # model_par = nn.DataParallel(model, device_ids=devices)"
   ],
   "metadata": {
    "collapsed": false,
    "pycharm": {
     "name": "#%%\n"
    }
   }
  },
  {
   "cell_type": "code",
   "execution_count": null,
   "outputs": [],
   "source": [
    "!nvidia-smi"
   ],
   "metadata": {
    "collapsed": false,
    "pycharm": {
     "name": "#%%\n"
    }
   }
  },
  {
   "cell_type": "code",
   "execution_count": null,
   "outputs": [],
   "source": [
    "# GPU training\n",
    "if True:\n",
    "    # # GPUs to use\n",
    "    # devices = [0]\n",
    "    # EPOCHS, BATCH_SIZE = 2, 20\n",
    "    # pad_idx    = TGT.vocab.stoi[\"<blank>\"]\n",
    "    # model      = transformer.make_model(len(SRC.vocab), len(TGT.vocab), N=6)\n",
    "    # crit       = transformer.LabelSmoothing(size=len(TGT.vocab), padding_idx=pad_idx, smoothing=0.1)\n",
    "    # train_iter = transformer.MyIterator(islice(train, 10000), batch_size=BATCH_SIZE, sort_key=lambda x: (len(x.src), len(x.trg)), device='cuda',\n",
    "    #                                     batch_size_fn=transformer.batch_size_fn, train=True,  repeat=False)\n",
    "    # valid_iter = transformer.MyIterator(islice(valid, 10000), batch_size=BATCH_SIZE, sort_key=lambda x: (len(x.src), len(x.trg)), device='cuda',\n",
    "    #                                     batch_size_fn=transformer.batch_size_fn, train=False, repeat=False)\n",
    "    # model.cuda()\n",
    "    # crit.cuda()\n",
    "    model_par = nn.DataParallel(model, device_ids=devices)\n",
    "    model_trn = model_par\n",
    "\n",
    "    writer, step0 = torch.utils.tensorboard.SummaryWriter(flush_secs=15), 0\n",
    "    model_opt = transformer.NoamOpt(model.src_embed[0].d_model, 1, 2000, torch.optim.Adam(model.parameters(), lr=0, betas=(0.9, 0.98), eps=1e-9))\n",
    "    for epoch in range(EPOCHS):\n",
    "        print(f'epoch {epoch}:')\n",
    "        model_trn.train()\n",
    "        loss, nbatches, nitems, ntokens = transformer.run_epoch((rebatch(b, pad_idx) for b in itertools.islice(train_iter, 10)), model_trn,\n",
    "                                                                # transformer.SimpleLossCompute(model.generator, crit, model_opt),\n",
    "                                                                MultiGPULossCompute(model.generator, crit, devices=devices, opt=model_opt),\n",
    "                                                                writer=writer, writer_step0=step0)\n",
    "        step0 += nbatches\n",
    "        \n",
    "        model_trn.eval()\n",
    "        loss, nbatches, nitems, ntokens = transformer.run_epoch((rebatch(b, pad_idx) for b in itertools.islice(valid_iter, 10)), model_trn,\n",
    "                                                                # transformer.SimpleLossCompute(model.generator, crit, opt=None),\n",
    "                                                                MultiGPULossCompute(model.generator, crit, devices=devices, opt=None)\n",
    "                                                                )\n",
    "        print(f'  ----           {loss/ntokens:.6f} loss/token, {ntokens/nitems:>4.1f} tokens/item')    \n",
    "    writer.close()\n",
    "\n",
    "else:\n",
    "#     model = torch.load(\"iwslt.pt\"\n",
    "    model = torch.load(\"iwslt.pt\", map_location=torch.device('cpu'))"
   ],
   "metadata": {
    "collapsed": false,
    "pycharm": {
     "name": "#%%\n"
    }
   }
  },
  {
   "cell_type": "code",
   "execution_count": null,
   "outputs": [],
   "source": [
    "!nvidia-smi"
   ],
   "metadata": {
    "collapsed": false,
    "pycharm": {
     "name": "#%%\n"
    }
   }
  },
  {
   "cell_type": "markdown",
   "metadata": {
    "id": "OPdC70naAT_B",
    "colab_type": "text"
   },
   "source": [
    "> Once trained we can decode the model to produce a set of translations. Here we simply translate the first sentence in the validation set. This dataset is pretty small so the translations with greedy search are reasonably accurate. "
   ]
  },
  {
   "cell_type": "code",
   "metadata": {
    "execution": {
     "iopub.execute_input": "2020-06-08T16:52:56.445674Z",
     "iopub.status.busy": "2020-06-08T16:52:56.444551Z",
     "iopub.status.idle": "2020-06-08T16:52:56.550608Z",
     "shell.execute_reply": "2020-06-08T16:52:56.547793Z",
     "shell.execute_reply.started": "2020-06-08T16:52:56.445484Z"
    },
    "id": "xEMz0E0yAT_E",
    "colab_type": "code",
    "colab": {}
   },
   "source": [
    "# GPUs to use\n",
    "devices = [0, 1, 2, 3]\n",
    "if False:\n",
    "    pad_idx = TGT.vocab.stoi[\"<blank>\"]\n",
    "    model = make_model(len(SRC.vocab), len(TGT.vocab), N=6)\n",
    "    model.cuda()\n",
    "    criterion = LabelSmoothing(size=len(TGT.vocab), padding_idx=pad_idx, smoothing=0.1)\n",
    "    criterion.cuda()\n",
    "    BATCH_SIZE = 12000\n",
    "    train_iter = MyIterator(train, batch_size=BATCH_SIZE, device=0,\n",
    "                            repeat=False, sort_key=lambda x: (len(x.src), len(x.trg)),\n",
    "                            batch_size_fn=batch_size_fn, train=True)\n",
    "    valid_iter = MyIterator(val, batch_size=BATCH_SIZE, device=0,\n",
    "                            repeat=False, sort_key=lambda x: (len(x.src), len(x.trg)),\n",
    "                            batch_size_fn=batch_size_fn, train=False)\n",
    "    model_par = nn.DataParallel(model, device_ids=devices)"
   ],
   "execution_count": 0,
   "outputs": []
  },
  {
   "cell_type": "markdown",
   "metadata": {
    "id": "MjrvoAspAT_k",
    "colab_type": "text"
   },
   "source": [
    "> Now we train the model. I will play with the warmup steps a bit, but everything else uses the default parameters.  On an AWS p3.8xlarge with 4 Tesla V100s, this runs at ~27,000 tokens per second with a batch size of 12,000 "
   ]
  },
  {
   "cell_type": "markdown",
   "metadata": {
    "id": "cdmQNc9LAT_u",
    "colab_type": "text"
   },
   "source": [
    "## Training the System"
   ]
  },
  {
   "cell_type": "code",
   "metadata": {
    "execution": {
     "iopub.execute_input": "2020-06-08T16:52:56.557567Z",
     "iopub.status.busy": "2020-06-08T16:52:56.556198Z",
     "iopub.status.idle": "2020-06-08T16:52:56.659909Z",
     "shell.execute_reply": "2020-06-08T16:52:56.655496Z",
     "shell.execute_reply.started": "2020-06-08T16:52:56.557344Z"
    },
    "id": "iT3UBLEtAUAA",
    "colab_type": "code",
    "colab": {}
   },
   "source": [
    "#!wget https://s3.amazonaws.com/opennmt-models/iwslt.pt"
   ],
   "execution_count": 0,
   "outputs": []
  },
  {
   "cell_type": "code",
   "metadata": {
    "execution": {
     "iopub.execute_input": "2020-06-08T16:53:13.608006Z",
     "iopub.status.busy": "2020-06-08T16:53:13.607268Z"
    },
    "id": "8opOb8zKAUB5",
    "colab_type": "code",
    "colab": {
     "base_uri": "https://localhost:8080/",
     "height": 153
    },
    "outputId": "3e29425b-e74a-453b-8a9d-16f97479dbc3"
   },
   "source": [
    "# train on CPU\n",
    "if False:\n",
    "    EPOCHS, BATCH_SIZE = 2, 2000\n",
    "    pad_idx    = TGT.vocab.stoi[\"<blank>\"]\n",
    "    model      = transformer.make_model(len(SRC.vocab), len(TGT.vocab), N=6)\n",
    "    crit       = transformer.LabelSmoothing(size=len(TGT.vocab), padding_idx=pad_idx, smoothing=0.1)\n",
    "    train_iter = transformer.MyIterator(train, batch_size=BATCH_SIZE, sort_key=lambda x: (len(x.src), len(x.trg)),\n",
    "                                        batch_size_fn=transformer.batch_size_fn, train=True,  repeat=False)\n",
    "    valid_iter = transformer.MyIterator(valid, batch_size=BATCH_SIZE, sort_key=lambda x: (len(x.src), len(x.trg)),\n",
    "                                        batch_size_fn=transformer.batch_size_fn, train=False, repeat=False)\n",
    "    \n",
    "    writer, step0 = torch.utils.tensorboard.SummaryWriter(flush_secs=15), 0\n",
    "    model_opt = transformer.NoamOpt(model.src_embed[0].d_model, 1, 2000, torch.optim.Adam(model.parameters(), lr=0, betas=(0.9, 0.98), eps=1e-9))\n",
    "    for epoch in range(EPOCHS):\n",
    "        print(f'epoch {epoch}:')\n",
    "        model.train()\n",
    "        loss, nbatches, nitems, ntokens = transformer.run_epoch((rebatch(b, pad_idx) for b in itertools.islice(train_iter, 10)), model,\n",
    "                                                                SimpleLossCompute(model.generator, crit, model_opt), writer=writer, writer_step0=step0)\n",
    "        step0 += nbatches\n",
    "        \n",
    "        model.eval()\n",
    "        loss, nbatches, nitems, ntokens = transformer.run_epoch((rebatch(b, pad_idx) for b in itertools.islice(valid_iter, 10)), model,\n",
    "                                                                SimpleLossCompute(model.generator, crit, model_opt))\n",
    "        print(f'  ----           {loss/ntokens:.6f} loss/token, {ntokens/nitems:>4.1f} tokens/item')    \n",
    "    writer.close()\n",
    "else:\n",
    "    model = torch.load(\"iwslt.pt\", map_location=torch.device('cpu'))"
   ],
   "execution_count": 49,
   "outputs": [
    {
     "output_type": "stream",
     "text": [
      "epoch 0:\n",
      "      400 items  9.314434 loss/token, 14.0 tokens/item,   133 items/batch,   115.4711 tokens/sec, \n",
      "      840 items  9.272344 loss/token, 13.0 tokens/item,   133 items/batch,   121.3874 tokens/sec, \n",
      "  ----           9.109903 loss/token, 16.0 tokens/item\n",
      "epoch 1:\n",
      "      386 items  9.042660 loss/token, 61.0 tokens/item,    23 items/batch,   114.3104 tokens/sec, \n",
      "      735 items  8.976195 loss/token, 15.0 tokens/item,   125 items/batch,   124.9413 tokens/sec, \n",
      "  ----           8.795416 loss/token, 16.0 tokens/item\n"
     ],
     "name": "stdout"
    }
   ]
  },
  {
   "cell_type": "code",
   "metadata": {
    "execution": {
     "iopub.execute_input": "2020-06-08T15:37:22.994813Z",
     "iopub.status.busy": "2020-06-08T15:37:22.994251Z",
     "iopub.status.idle": "2020-06-08T15:37:24.142239Z",
     "shell.execute_reply": "2020-06-08T15:37:24.140982Z",
     "shell.execute_reply.started": "2020-06-08T15:37:22.994758Z"
    },
    "id": "zM2X9Nk2AUCM",
    "colab_type": "code",
    "colab": {
     "base_uri": "https://localhost:8080/",
     "height": 34
    },
    "outputId": "85f4d4e0-e4f6-4179-b4a1-9e1d41212be8"
   },
   "source": [
    "import gc\n",
    "gc.collect()"
   ],
   "execution_count": 99,
   "outputs": [
    {
     "output_type": "execute_result",
     "data": {
      "text/plain": [
       "0"
      ]
     },
     "metadata": {
      "tags": []
     },
     "execution_count": 99
    }
   ]
  },
  {
   "cell_type": "code",
   "metadata": {
    "id": "pDMmUlWVNtyI",
    "colab_type": "code",
    "colab": {}
   },
   "source": [
    "\n",
    "# Skip if not interested in multigpu.\n",
    "class MultiGPULossCompute:\n",
    "    \"A multi-gpu loss compute and train function.\"\n",
    "\n",
    "    def __init__(self, generator, criterion, devices, opt=None, chunk_size=5):\n",
    "        # Send out to different gpus.\n",
    "        self.generator = generator\n",
    "        self.criterion = nn.parallel.replicate(criterion, devices=devices)\n",
    "        self.opt = opt\n",
    "        self.devices = devices\n",
    "        self.chunk_size = chunk_size\n",
    "\n",
    "    def __call__(self, out, targets, normalize):\n",
    "        total = 0.0\n",
    "        generator = nn.parallel.replicate(self.generator, devices=self.devices)\n",
    "        out_scatter = nn.parallel.scatter(out, target_gpus=self.devices)\n",
    "        out_grad = [[] for _ in out_scatter]\n",
    "        targets = nn.parallel.scatter(targets, target_gpus=self.devices)\n",
    "\n",
    "        # Divide generating into chunks.\n",
    "        chunk_size = self.chunk_size\n",
    "        for i in range(0, out_scatter[0].size(1), chunk_size):\n",
    "            # Predict distributions\n",
    "            out_column = [[Variable(o[:, i:i + chunk_size].data, requires_grad=self.opt is not None)] for o in out_scatter]\n",
    "            gen = nn.parallel.parallel_apply(generator, out_column)\n",
    "\n",
    "            # Compute loss.\n",
    "            y = [(g.contiguous().view(-1, g.size(-1)), t[:, i:i + chunk_size].contiguous().view(-1)) for g, t in zip(gen, targets)]\n",
    "            loss = nn.parallel.parallel_apply(self.criterion, y)\n",
    "\n",
    "            # Sum and normalize loss\n",
    "            l = nn.parallel.gather(loss, target_device=self.devices[0])\n",
    "            if i == 0: print(l.shape)\n",
    "            l = l.sum() / normalize\n",
    "            total += l.data.item()\n",
    "\n",
    "            # Backprop loss to output of transformer\n",
    "            if self.opt is not None:\n",
    "                l.backward()\n",
    "                for j, l in enumerate(loss):\n",
    "                    out_grad[j].append(out_column[j][0].grad.data.clone())\n",
    "\n",
    "        # Backprop all loss through transformer.\n",
    "        if self.opt is not None:\n",
    "            out_grad = [Variable(torch.cat(og, dim=1)) for og in out_grad]\n",
    "            o1 = out\n",
    "            o2 = nn.parallel.gather(out_grad, target_device=self.devices[0])\n",
    "            o1.backward(gradient=o2)\n",
    "            self.opt.step()\n",
    "            self.opt.optimizer.zero_grad()\n",
    "        return total * normalize"
   ],
   "execution_count": 0,
   "outputs": []
  },
  {
   "cell_type": "code",
   "metadata": {
    "id": "IFVfq1clRQOE",
    "colab_type": "code",
    "colab": {
     "base_uri": "https://localhost:8080/",
     "height": 289
    },
    "outputId": "4f98989e-dfcc-4b65-898e-1f639166cfa0"
   },
   "source": [
    "!nvidia-smi"
   ],
   "execution_count": 62,
   "outputs": [
    {
     "output_type": "stream",
     "text": [
      "Mon Jun  8 19:55:04 2020       \n",
      "+-----------------------------------------------------------------------------+\n",
      "| NVIDIA-SMI 440.82       Driver Version: 418.67       CUDA Version: 10.1     |\n",
      "|-------------------------------+----------------------+----------------------+\n",
      "| GPU  Name        Persistence-M| Bus-Id        Disp.A | Volatile Uncorr. ECC |\n",
      "| Fan  Temp  Perf  Pwr:Usage/Cap|         Memory-Usage | GPU-Util  Compute M. |\n",
      "|===============================+======================+======================|\n",
      "|   0  Tesla T4            Off  | 00000000:00:04.0 Off |                    0 |\n",
      "| N/A   74C    P0    33W /  70W |  10815MiB / 15079MiB |      0%      Default |\n",
      "+-------------------------------+----------------------+----------------------+\n",
      "                                                                               \n",
      "+-----------------------------------------------------------------------------+\n",
      "| Processes:                                                       GPU Memory |\n",
      "|  GPU       PID   Type   Process name                             Usage      |\n",
      "|=============================================================================|\n",
      "+-----------------------------------------------------------------------------+\n"
     ],
     "name": "stdout"
    }
   ]
  },
  {
   "cell_type": "code",
   "metadata": {
    "id": "xa1Tx2cqPjZ6",
    "colab_type": "code",
    "colab": {
     "base_uri": "https://localhost:8080/",
     "height": 34
    },
    "outputId": "9c06caca-3270-4402-be49-2ec3736cdec7"
   },
   "source": [
    "import gc\n",
    "torch.cuda.empty_cache()\n",
    "gc.collect()"
   ],
   "execution_count": 63,
   "outputs": [
    {
     "output_type": "execute_result",
     "data": {
      "text/plain": [
       "7"
      ]
     },
     "metadata": {
      "tags": []
     },
     "execution_count": 63
    }
   ]
  },
  {
   "cell_type": "code",
   "metadata": {
    "id": "cQsFCmOrQKDK",
    "colab_type": "code",
    "colab": {
     "base_uri": "https://localhost:8080/",
     "height": 105
    },
    "outputId": "b0e83144-abba-455b-aae5-417c0173b3da"
   },
   "source": [
    "!ps -aux|grep python"
   ],
   "execution_count": 64,
   "outputs": [
    {
     "output_type": "stream",
     "text": [
      "root          19  0.1  0.7 413532 103696 ?       Sl   17:36   0:13 /usr/bin/python2 /usr/local/bin/jupyter-notebook --ip=\"172.28.0.2\" --port=9000 --FileContentsManager.root_dir=\"/\" --MappingKernelManager.root_dir=\"/content\"\n",
      "root         839  5.6 44.8 28048048 5978588 ?    Ssl  18:46   3:51 /usr/bin/python3 -m ipykernel_launcher -f /root/.local/share/jupyter/runtime/kernel-4e824ed1-bcf1-4a4d-8595-bb47c0a67ebe.json\n",
      "root        2061  0.0  0.0  39196  6364 ?        S    19:55   0:00 /bin/bash -c ps -aux|grep python\n",
      "root        2063  0.0  0.0  38568  4988 ?        S    19:55   0:00 grep python\n"
     ],
     "name": "stdout"
    }
   ]
  },
  {
   "cell_type": "code",
   "metadata": {
    "id": "Wbdrf_N6QRII",
    "colab_type": "code",
    "colab": {}
   },
   "source": [
    "!kill -9 124"
   ],
   "execution_count": 0,
   "outputs": []
  },
  {
   "cell_type": "code",
   "metadata": {
    "id": "FfsTYr_MPoP6",
    "colab_type": "code",
    "colab": {
     "base_uri": "https://localhost:8080/",
     "height": 289
    },
    "outputId": "e55085fe-7925-465b-c37b-d1f81c4bb676"
   },
   "source": [
    "!nvidia-smi"
   ],
   "execution_count": 56,
   "outputs": [
    {
     "output_type": "stream",
     "text": [
      "Mon Jun  8 19:41:38 2020       \n",
      "+-----------------------------------------------------------------------------+\n",
      "| NVIDIA-SMI 440.82       Driver Version: 418.67       CUDA Version: 10.1     |\n",
      "|-------------------------------+----------------------+----------------------+\n",
      "| GPU  Name        Persistence-M| Bus-Id        Disp.A | Volatile Uncorr. ECC |\n",
      "| Fan  Temp  Perf  Pwr:Usage/Cap|         Memory-Usage | GPU-Util  Compute M. |\n",
      "|===============================+======================+======================|\n",
      "|   0  Tesla T4            Off  | 00000000:00:04.0 Off |                    0 |\n",
      "| N/A   73C    P0    33W /  70W |   5967MiB / 15079MiB |      0%      Default |\n",
      "+-------------------------------+----------------------+----------------------+\n",
      "                                                                               \n",
      "+-----------------------------------------------------------------------------+\n",
      "| Processes:                                                       GPU Memory |\n",
      "|  GPU       PID   Type   Process name                             Usage      |\n",
      "|=============================================================================|\n",
      "+-----------------------------------------------------------------------------+\n"
     ],
     "name": "stdout"
    }
   ]
  },
  {
   "cell_type": "code",
   "metadata": {
    "id": "alioQxk2TUcs",
    "colab_type": "code",
    "colab": {}
   },
   "source": [
    "if True:\n",
    "    # GPUs to use\n",
    "    devices = [0]\n",
    "    EPOCHS, BATCH_SIZE = 2, 3000\n",
    "    pad_idx    = TGT.vocab.stoi[\"<blank>\"]\n",
    "    model      = transformer.make_model(len(SRC.vocab), len(TGT.vocab), N=6)\n",
    "    crit       = transformer.LabelSmoothing(size=len(TGT.vocab), padding_idx=pad_idx, smoothing=0.1)\n",
    "    train_iter = transformer.MyIterator(train, batch_size=BATCH_SIZE, sort_key=lambda x: (len(x.src), len(x.trg)), device='cuda',\n",
    "                                        batch_size_fn=transformer.batch_size_fn, train=True,  repeat=False)\n",
    "    valid_iter = transformer.MyIterator(valid, batch_size=BATCH_SIZE, sort_key=lambda x: (len(x.src), len(x.trg)), device='cuda',\n",
    "                                        batch_size_fn=transformer.batch_size_fn, train=False, repeat=False)\n",
    "    model.cuda()\n",
    "    crit.cuda()\n",
    "    # model_par = nn.DataParallel(model, device_ids=devices)"
   ],
   "execution_count": 0,
   "outputs": []
  },
  {
   "cell_type": "code",
   "metadata": {
    "id": "MPRSNCGXTsjk",
    "colab_type": "code",
    "colab": {
     "base_uri": "https://localhost:8080/",
     "height": 289
    },
    "outputId": "134ae913-355f-45a0-f964-3cf5080acdc9"
   },
   "source": [
    "!nvidia-smi"
   ],
   "execution_count": 66,
   "outputs": [
    {
     "output_type": "stream",
     "text": [
      "Mon Jun  8 19:55:28 2020       \n",
      "+-----------------------------------------------------------------------------+\n",
      "| NVIDIA-SMI 440.82       Driver Version: 418.67       CUDA Version: 10.1     |\n",
      "|-------------------------------+----------------------+----------------------+\n",
      "| GPU  Name        Persistence-M| Bus-Id        Disp.A | Volatile Uncorr. ECC |\n",
      "| Fan  Temp  Perf  Pwr:Usage/Cap|         Memory-Usage | GPU-Util  Compute M. |\n",
      "|===============================+======================+======================|\n",
      "|   0  Tesla T4            Off  | 00000000:00:04.0 Off |                    0 |\n",
      "| N/A   73C    P0    33W /  70W |   6275MiB / 15079MiB |      0%      Default |\n",
      "+-------------------------------+----------------------+----------------------+\n",
      "                                                                               \n",
      "+-----------------------------------------------------------------------------+\n",
      "| Processes:                                                       GPU Memory |\n",
      "|  GPU       PID   Type   Process name                             Usage      |\n",
      "|=============================================================================|\n",
      "+-----------------------------------------------------------------------------+\n"
     ],
     "name": "stdout"
    }
   ]
  },
  {
   "cell_type": "code",
   "metadata": {
    "id": "KD63zmL7AUCp",
    "colab_type": "code",
    "colab": {
     "base_uri": "https://localhost:8080/",
     "height": 887
    },
    "outputId": "1dd977b8-5bf4-4b8a-959a-ecb925916934"
   },
   "source": [
    "# GPU training\n",
    "if True:\n",
    "    # # GPUs to use\n",
    "    # devices = [0]\n",
    "    # EPOCHS, BATCH_SIZE = 2, 20\n",
    "    # pad_idx    = TGT.vocab.stoi[\"<blank>\"]\n",
    "    # model      = transformer.make_model(len(SRC.vocab), len(TGT.vocab), N=6)\n",
    "    # crit       = transformer.LabelSmoothing(size=len(TGT.vocab), padding_idx=pad_idx, smoothing=0.1)\n",
    "    # train_iter = transformer.MyIterator(islice(train, 10000), batch_size=BATCH_SIZE, sort_key=lambda x: (len(x.src), len(x.trg)), device='cuda',\n",
    "    #                                     batch_size_fn=transformer.batch_size_fn, train=True,  repeat=False)\n",
    "    # valid_iter = transformer.MyIterator(islice(valid, 10000), batch_size=BATCH_SIZE, sort_key=lambda x: (len(x.src), len(x.trg)), device='cuda',\n",
    "    #                                     batch_size_fn=transformer.batch_size_fn, train=False, repeat=False)\n",
    "    # model.cuda()\n",
    "    # crit.cuda()\n",
    "    model_par = nn.DataParallel(model, device_ids=devices)\n",
    "    model_trn = model_par\n",
    "\n",
    "    writer, step0 = torch.utils.tensorboard.SummaryWriter(flush_secs=15), 0\n",
    "    model_opt = transformer.NoamOpt(model.src_embed[0].d_model, 1, 2000, torch.optim.Adam(model.parameters(), lr=0, betas=(0.9, 0.98), eps=1e-9))\n",
    "    for epoch in range(EPOCHS):\n",
    "        print(f'epoch {epoch}:')\n",
    "        model_trn.train()\n",
    "        loss, nbatches, nitems, ntokens = transformer.run_epoch((rebatch(b, pad_idx) for b in itertools.islice(train_iter, 10)), model_trn,\n",
    "                                                                # transformer.SimpleLossCompute(model.generator, crit, model_opt),\n",
    "                                                                MultiGPULossCompute(model.generator, crit, devices=devices, opt=model_opt),\n",
    "                                                                writer=writer, writer_step0=step0)\n",
    "        step0 += nbatches\n",
    "        \n",
    "        model_trn.eval()\n",
    "        loss, nbatches, nitems, ntokens = transformer.run_epoch((rebatch(b, pad_idx) for b in itertools.islice(valid_iter, 10)), model_trn,\n",
    "                                                                # transformer.SimpleLossCompute(model.generator, crit, opt=None),\n",
    "                                                                MultiGPULossCompute(model.generator, crit, devices=devices, opt=None)\n",
    "                                                                )\n",
    "        print(f'  ----           {loss/ntokens:.6f} loss/token, {ntokens/nitems:>4.1f} tokens/item')    \n",
    "    writer.close()\n",
    "\n",
    "else:\n",
    "#     model = torch.load(\"iwslt.pt\"\n",
    "    model = torch.load(\"iwslt.pt\", map_location=torch.device('cpu'))"
   ],
   "execution_count": 67,
   "outputs": [
    {
     "output_type": "stream",
     "text": [
      "epoch 0:\n"
     ],
     "name": "stdout"
    },
    {
     "output_type": "stream",
     "text": [
      "/usr/local/lib/python3.6/dist-packages/torch/nn/parallel/_functions.py:61: UserWarning: Was asked to gather along dimension 0, but all input tensors were scalars; will instead unsqueeze and return a vector.\n",
      "  warnings.warn('Was asked to gather along dimension 0, but all '\n"
     ],
     "name": "stderr"
    },
    {
     "output_type": "stream",
     "text": [
      "torch.Size([1])\n",
      "torch.Size([1])\n",
      "torch.Size([1])\n",
      "torch.Size([1])\n",
      "torch.Size([1])\n",
      "      634 items  9.121724 loss/token, 33.0 tokens/item,    81 items/batch,  3674.9104 tokens/sec, \n",
      "torch.Size([1])\n",
      "torch.Size([1])\n",
      "torch.Size([1])\n",
      "torch.Size([1])\n",
      "torch.Size([1])\n",
      "     1155 items  9.087993 loss/token, 18.0 tokens/item,   150 items/batch,  5706.9668 tokens/sec, \n",
      "torch.Size([1])\n",
      "torch.Size([1])\n",
      "torch.Size([1])\n",
      "torch.Size([1])\n",
      "torch.Size([1])\n",
      "torch.Size([1])\n",
      "torch.Size([1])\n",
      "torch.Size([1])\n",
      "torch.Size([1])\n",
      "torch.Size([1])\n",
      "  ----           9.038759 loss/token, 20.0 tokens/item\n",
      "epoch 1:\n",
      "torch.Size([1])\n",
      "torch.Size([1])\n",
      "torch.Size([1])\n",
      "torch.Size([1])\n",
      "torch.Size([1])\n",
      "      447 items  9.016766 loss/token, 18.0 tokens/item,   157 items/batch,  3775.8904 tokens/sec, \n",
      "torch.Size([1])\n",
      "torch.Size([1])\n",
      "torch.Size([1])\n",
      "torch.Size([1])\n",
      "torch.Size([1])\n",
      "      862 items  8.938869 loss/token, 64.0 tokens/item,    29 items/batch,  5324.3037 tokens/sec, \n",
      "torch.Size([1])\n",
      "torch.Size([1])\n",
      "torch.Size([1])\n",
      "torch.Size([1])\n",
      "torch.Size([1])\n",
      "torch.Size([1])\n",
      "torch.Size([1])\n",
      "torch.Size([1])\n",
      "torch.Size([1])\n",
      "torch.Size([1])\n",
      "  ----           8.864512 loss/token, 20.0 tokens/item\n"
     ],
     "name": "stdout"
    }
   ]
  },
  {
   "cell_type": "code",
   "metadata": {
    "id": "Bl7RuW8uUraf",
    "colab_type": "code",
    "colab": {
     "base_uri": "https://localhost:8080/",
     "height": 289
    },
    "outputId": "acfc06b2-1cd7-4268-d2a9-28ba91096f10"
   },
   "source": [
    "!nvidia-smi"
   ],
   "execution_count": 44,
   "outputs": [
    {
     "output_type": "stream",
     "text": [
      "Mon Jun  8 19:38:57 2020       \n",
      "+-----------------------------------------------------------------------------+\n",
      "| NVIDIA-SMI 440.82       Driver Version: 418.67       CUDA Version: 10.1     |\n",
      "|-------------------------------+----------------------+----------------------+\n",
      "| GPU  Name        Persistence-M| Bus-Id        Disp.A | Volatile Uncorr. ECC |\n",
      "| Fan  Temp  Perf  Pwr:Usage/Cap|         Memory-Usage | GPU-Util  Compute M. |\n",
      "|===============================+======================+======================|\n",
      "|   0  Tesla T4            Off  | 00000000:00:04.0 Off |                    0 |\n",
      "| N/A   79C    P0    47W /  70W |   9389MiB / 15079MiB |      0%      Default |\n",
      "+-------------------------------+----------------------+----------------------+\n",
      "                                                                               \n",
      "+-----------------------------------------------------------------------------+\n",
      "| Processes:                                                       GPU Memory |\n",
      "|  GPU       PID   Type   Process name                             Usage      |\n",
      "|=============================================================================|\n",
      "+-----------------------------------------------------------------------------+\n"
     ],
     "name": "stdout"
    }
   ]
  },
  {
   "cell_type": "markdown",
   "metadata": {
    "id": "kMg6Ay5AAUC8",
    "colab_type": "text"
   },
   "source": [
    "> Once trained we can decode the model to produce a set of translations. Here we simply translate the first sentence in the validation set. This dataset is pretty small so the translations with greedy search are reasonably accurate. "
   ]
  },
  {
   "cell_type": "code",
   "metadata": {
    "id": "R-_fxec8AUC-",
    "colab_type": "code",
    "colab": {}
   },
   "source": [
    "for i, batch in enumerate(valid_iter):\n",
    "    src = batch.src.transpose(0, 1)[:1]\n",
    "    src_mask = (src != SRC.vocab.stoi[\"<blank>\"]).unsqueeze(-2)\n",
    "    out = greedy_decode(model, src, src_mask, \n",
    "                        max_len=60, start_symbol=TGT.vocab.stoi[\"<s>\"])\n",
    "    print(\"Translation:\", end=\"\\t\")\n",
    "    for i in range(1, out.size(1)):\n",
    "        sym = TGT.vocab.itos[out[0, i]]\n",
    "        if sym == \"</s>\": break\n",
    "        print(sym, end =\" \")\n",
    "    print()\n",
    "    print(\"Target:\", end=\"\\t\")\n",
    "    for i in range(1, batch.trg.size(0)):\n",
    "        sym = TGT.vocab.itos[batch.trg.data[i, 0]]\n",
    "        if sym == \"</s>\": break\n",
    "        print(sym, end =\" \")\n",
    "    print()\n",
    "    break"
   ],
   "execution_count": 0,
   "outputs": []
  },
  {
   "cell_type": "markdown",
   "metadata": {
    "id": "yzNQWvQkAUDR",
    "colab_type": "text"
   },
   "source": [
    "# Additional Components: BPE, Search, Averaging"
   ]
  },
  {
   "cell_type": "markdown",
   "metadata": {
    "id": "rRd8U0iAAUDb",
    "colab_type": "text"
   },
   "source": [
    "> So this mostly covers the transformer model itself. There are four aspects that we didn't cover explicitly. We also have all these additional features implemented in [OpenNMT-py](https://github.com/opennmt/opennmt-py).\n",
    "\n"
   ]
  },
  {
   "cell_type": "markdown",
   "metadata": {
    "id": "n3wvYA3ZAUDt",
    "colab_type": "text"
   },
   "source": [
    "> 1) BPE/ Word-piece: We can use a library to first preprocess the data into subword units. See Rico Sennrich's [subword-nmt](https://github.com/rsennrich/subword-nmt) implementation. These models will transform the training data to look like this:"
   ]
  },
  {
   "cell_type": "markdown",
   "metadata": {
    "id": "PknJqdoUAUE3",
    "colab_type": "text"
   },
   "source": [
    "▁Die ▁Protokoll datei ▁kann ▁ heimlich ▁per ▁E - Mail ▁oder ▁FTP ▁an ▁einen ▁bestimmte n ▁Empfänger ▁gesendet ▁werden ."
   ]
  },
  {
   "cell_type": "markdown",
   "metadata": {
    "id": "8WNYhdJcAUFE",
    "colab_type": "text"
   },
   "source": [
    "> 2) Shared Embeddings: When using BPE with shared vocabulary we can share the same weight vectors between the source / target / generator. See the [(cite)](https://arxiv.org/abs/1608.05859) for details. To add this to the model simply do this:"
   ]
  },
  {
   "cell_type": "code",
   "metadata": {
    "id": "Otoh9P1gAUFQ",
    "colab_type": "code",
    "colab": {}
   },
   "source": [
    "if False:\n",
    "    model.src_embed[0].lut.weight = model.tgt_embeddings[0].lut.weight\n",
    "    model.generator.lut.weight = model.tgt_embed[0].lut.weight"
   ],
   "execution_count": 0,
   "outputs": []
  },
  {
   "cell_type": "markdown",
   "metadata": {
    "id": "11L_Fu9cAUGO",
    "colab_type": "text"
   },
   "source": [
    "> 3) Beam Search: This is a bit too complicated to cover here. See the [OpenNMT-py](https://github.com/OpenNMT/OpenNMT-py/blob/master/onmt/translate/Beam.py) for a pytorch implementation.\n",
    "\n"
   ]
  },
  {
   "cell_type": "markdown",
   "metadata": {
    "id": "hxApopXYAUGS",
    "colab_type": "text"
   },
   "source": [
    "> 4) Model Averaging: The paper averages the last k checkpoints to create an ensembling effect. We can do this after the fact if we have a bunch of models:"
   ]
  },
  {
   "cell_type": "code",
   "metadata": {
    "id": "WWl1vEUUAUGZ",
    "colab_type": "code",
    "colab": {}
   },
   "source": [
    "def average(model, models):\n",
    "    \"Average models into model\"\n",
    "    for ps in zip(*[m.params() for m in [model] + models]):\n",
    "        p[0].copy_(torch.sum(*ps[1:]) / len(ps[1:]))"
   ],
   "execution_count": 0,
   "outputs": []
  },
  {
   "cell_type": "markdown",
   "metadata": {
    "id": "8GaxJlvkAUG1",
    "colab_type": "text"
   },
   "source": [
    "# Results\n",
    "\n",
    "On the WMT 2014 English-to-German translation task, the big transformer model (Transformer (big)\n",
    "in Table 2) outperforms the best previously reported models (including ensembles) by more than 2.0\n",
    "BLEU, establishing a new state-of-the-art BLEU score of 28.4. The configuration of this model is\n",
    "listed in the bottom line of Table 3. Training took 3.5 days on 8 P100 GPUs. Even our base model\n",
    "surpasses all previously published models and ensembles, at a fraction of the training cost of any of\n",
    "the competitive models.\n",
    "\n",
    "On the WMT 2014 English-to-French translation task, our big model achieves a BLEU score of 41.0,\n",
    "outperforming all of the previously published single models, at less than 1/4 the training cost of the\n",
    "previous state-of-the-art model. The Transformer (big) model trained for English-to-French used\n",
    "dropout rate Pdrop = 0.1, instead of 0.3.\n",
    "\n"
   ]
  },
  {
   "cell_type": "code",
   "metadata": {
    "id": "WpLGlsWTAUG3",
    "colab_type": "code",
    "colab": {}
   },
   "source": [
    "Image(filename=\"images/results.png\")"
   ],
   "execution_count": 0,
   "outputs": []
  },
  {
   "cell_type": "markdown",
   "metadata": {
    "id": "1qfV8n0SAUHH",
    "colab_type": "text"
   },
   "source": [
    "> The code we have written here is a version of the base model. There are fully trained version of this system available here  [(Example Models)](http://opennmt.net/Models-py/).\n",
    ">\n",
    "> With the addtional extensions in the last section, the OpenNMT-py replication gets to 26.9 on EN-DE WMT. Here I have loaded in those parameters to our reimplemenation. "
   ]
  },
  {
   "cell_type": "code",
   "metadata": {
    "id": "WriO2WBtAUHK",
    "colab_type": "code",
    "colab": {}
   },
   "source": [
    "!wget https://s3.amazonaws.com/opennmt-models/en-de-model.pt"
   ],
   "execution_count": 0,
   "outputs": []
  },
  {
   "cell_type": "code",
   "metadata": {
    "id": "XWS91LOEAUHc",
    "colab_type": "code",
    "colab": {}
   },
   "source": [
    "model, SRC, TGT = torch.load(\"en-de-model.pt\")"
   ],
   "execution_count": 0,
   "outputs": []
  },
  {
   "cell_type": "code",
   "metadata": {
    "id": "kDaQsQUqAUHs",
    "colab_type": "code",
    "colab": {}
   },
   "source": [
    ""
   ],
   "execution_count": 0,
   "outputs": []
  },
  {
   "cell_type": "code",
   "metadata": {
    "id": "WRK7agc8AUIB",
    "colab_type": "code",
    "colab": {}
   },
   "source": [
    "model.eval()\n",
    "sent = \"▁The ▁log ▁file ▁can ▁be ▁sent ▁secret ly ▁with ▁email ▁or ▁FTP ▁to ▁a ▁specified ▁receiver\".split()\n",
    "src = torch.LongTensor([[SRC.stoi[w] for w in sent]])\n",
    "src = Variable(src)\n",
    "src_mask = (src != SRC.stoi[\"<blank>\"]).unsqueeze(-2)\n",
    "out = greedy_decode(model, src, src_mask, \n",
    "                    max_len=60, start_symbol=TGT.stoi[\"<s>\"])\n",
    "print(\"Translation:\", end=\"\\t\")\n",
    "trans = \"<s> \"\n",
    "for i in range(1, out.size(1)):\n",
    "    sym = TGT.itos[out[0, i]]\n",
    "    if sym == \"</s>\": break\n",
    "    trans += sym + \" \"\n",
    "print(trans)"
   ],
   "execution_count": 0,
   "outputs": []
  },
  {
   "cell_type": "markdown",
   "metadata": {
    "id": "ztWqmf8AAUIn",
    "colab_type": "text"
   },
   "source": [
    "## Attention Visualization\n",
    "\n",
    "> Even with a greedy decoder the translation looks pretty good. We can further visualize it to see what is happening at each layer of the attention "
   ]
  },
  {
   "cell_type": "code",
   "metadata": {
    "id": "y9Utug8XAUIq",
    "colab_type": "code",
    "colab": {}
   },
   "source": [
    "tgt_sent = trans.split()\n",
    "def draw(data, x, y, ax):\n",
    "    seaborn.heatmap(data, \n",
    "                    xticklabels=x, square=True, yticklabels=y, vmin=0.0, vmax=1.0, \n",
    "                    cbar=False, ax=ax)\n",
    "    \n",
    "for layer in range(1, 6, 2):\n",
    "    fig, axs = plt.subplots(1,4, figsize=(20, 10))\n",
    "    print(\"Encoder Layer\", layer+1)\n",
    "    for h in range(4):\n",
    "        draw(model.encoder.layers[layer].self_attn.attn[0, h].data, \n",
    "            sent, sent if h ==0 else [], ax=axs[h])\n",
    "    plt.show()\n",
    "    \n",
    "for layer in range(1, 6, 2):\n",
    "    fig, axs = plt.subplots(1,4, figsize=(20, 10))\n",
    "    print(\"Decoder Self Layer\", layer+1)\n",
    "    for h in range(4):\n",
    "        draw(model.decoder.layers[layer].self_attn.attn[0, h].data[:len(tgt_sent), :len(tgt_sent)], \n",
    "            tgt_sent, tgt_sent if h ==0 else [], ax=axs[h])\n",
    "    plt.show()\n",
    "    print(\"Decoder Src Layer\", layer+1)\n",
    "    fig, axs = plt.subplots(1,4, figsize=(20, 10))\n",
    "    for h in range(4):\n",
    "        draw(model.decoder.layers[layer].self_attn.attn[0, h].data[:len(tgt_sent), :len(sent)], \n",
    "            sent, tgt_sent if h ==0 else [], ax=axs[h])\n",
    "    plt.show()\n"
   ],
   "execution_count": 0,
   "outputs": []
  },
  {
   "cell_type": "markdown",
   "metadata": {
    "id": "xcs3SabiAUJC",
    "colab_type": "raw"
   },
   "source": [
    "# Conclusion\n",
    "\n",
    "> Hopefully this code is useful for future research. Please reach out if you have any issues. If you find this code helpful, also check out our other OpenNMT tools.\n",
    "\n",
    "```\n",
    "@inproceedings{opennmt,\n",
    "  author    = {Guillaume Klein and\n",
    "               Yoon Kim and\n",
    "               Yuntian Deng and\n",
    "               Jean Senellart and\n",
    "               Alexander M. Rush},\n",
    "  title     = {OpenNMT: Open-Source Toolkit for Neural Machine Translation},\n",
    "  booktitle = {Proc. ACL},\n",
    "  year      = {2017},\n",
    "  url       = {https://doi.org/10.18653/v1/P17-4012},\n",
    "  doi       = {10.18653/v1/P17-4012}\n",
    "}\n",
    "```\n",
    "\n",
    "> Cheers,\n",
    "> srush"
   ]
  },
  {
   "cell_type": "markdown",
   "metadata": {
    "id": "BqxeugSPAUJG",
    "colab_type": "raw"
   },
   "source": [
    "{::options parse_block_html=\"true\" /}\n",
    "<div id=\"disqus_thread\"></div>\n",
    "<script>\n",
    "\n",
    "/**\n",
    "*  RECOMMENDED CONFIGURATION VARIABLES: EDIT AND UNCOMMENT THE SECTION BELOW TO INSERT DYNAMIC VALUES FROM YOUR PLATFORM OR CMS.\n",
    "*  LEARN WHY DEFINING THESE VARIABLES IS IMPORTANT: https://disqus.com/admin/universalcode/#configuration-variables*/\n",
    "/*\n",
    "var disqus_config = function () {\n",
    "this.page.url = PAGE_URL;  // Replace PAGE_URL with your page's canonical URL variable\n",
    "this.page.identifier = PAGE_IDENTIFIER; // Replace PAGE_IDENTIFIER with your page's unique identifier variable\n",
    "};\n",
    "*/\n",
    "(function() { // DON'T EDIT BELOW THIS LINE\n",
    "var d = document, s = d.createElement('script');\n",
    "s.src = 'https://harvard-nlp.disqus.com/embed.js';\n",
    "s.setAttribute('data-timestamp', +new Date());\n",
    "(d.head || d.body).appendChild(s);\n",
    "})();\n",
    "</script>\n",
    "<noscript>Please enable JavaScript to view the <a href=\"https://disqus.com/?ref_noscript\">comments powered by Disqus.</a></noscript>\n",
    "                            "
   ]
  },
  {
   "cell_type": "markdown",
   "metadata": {
    "id": "gvdEJ0iNAUJJ",
    "colab_type": "text"
   },
   "source": [
    "<div id=\"disqus_thread\"></div>\n",
    "<script>\n",
    "    /**\n",
    "     *  RECOMMENDED CONFIGURATION VARIABLES: EDIT AND UNCOMMENT THE SECTION BELOW TO INSERT DYNAMIC VALUES FROM YOUR PLATFORM OR CMS.\n",
    "     *  LEARN WHY DEFINING THESE VARIABLES IS IMPORTANT: https://disqus.com/admin/universalcode/#configuration-variables\n",
    "     */\n",
    "    /*\n",
    "    var disqus_config = function () {\n",
    "        this.page.url = PAGE_URL;  // Replace PAGE_URL with your page's canonical URL variable\n",
    "        this.page.identifier = PAGE_IDENTIFIER; // Replace PAGE_IDENTIFIER with your page's unique identifier variable\n",
    "    };\n",
    "    */\n",
    "    (function() {  // REQUIRED CONFIGURATION VARIABLE: EDIT THE SHORTNAME BELOW\n",
    "        var d = document, s = d.createElement('script');\n",
    "        \n",
    "        s.src = 'https://EXAMPLE.disqus.com/embed.js';  // IMPORTANT: Replace EXAMPLE with your forum shortname!\n",
    "        \n",
    "        s.setAttribute('data-timestamp', +new Date());\n",
    "        (d.head || d.body).appendChild(s);\n",
    "    })();\n",
    "</script>\n",
    "<noscript>Please enable JavaScript to view the <a href=\"https://disqus.com/?ref_noscript\" rel=\"nofollow\">comments powered by Disqus.</a></noscript>"
   ]
  }
 ]
}